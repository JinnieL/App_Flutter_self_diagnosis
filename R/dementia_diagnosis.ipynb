{
 "cells": [
  {
   "cell_type": "code",
   "execution_count": 1,
   "metadata": {
    "vscode": {
     "languageId": "r"
    }
   },
   "outputs": [
    {
     "data": {
      "text/html": [
       "'en_US.UTF-8/en_US.UTF-8/en_US.UTF-8/C/en_US.UTF-8/C'"
      ],
      "text/latex": [
       "'en\\_US.UTF-8/en\\_US.UTF-8/en\\_US.UTF-8/C/en\\_US.UTF-8/C'"
      ],
      "text/markdown": [
       "'en_US.UTF-8/en_US.UTF-8/en_US.UTF-8/C/en_US.UTF-8/C'"
      ],
      "text/plain": [
       "[1] \"en_US.UTF-8/en_US.UTF-8/en_US.UTF-8/C/en_US.UTF-8/C\""
      ]
     },
     "metadata": {},
     "output_type": "display_data"
    }
   ],
   "source": [
    "Sys.setlocale(\"LC_ALL\", \"en_US.UTF-8\")\n",
    "options(warn=-1, repr.plot.width=15, repr.plot.height=9)"
   ]
  },
  {
   "cell_type": "markdown",
   "metadata": {},
   "source": [
    "### 치매 환자 데이터를 활용하여 치매 진단 예측\n",
    "데이터 출처 : https://www.oasis-brains.org/         \n",
    "    OASIS-2: Longitudinal MRI Data in Nondemented and Demented Older Adults\n",
    "    "
   ]
  },
  {
   "cell_type": "markdown",
   "metadata": {},
   "source": [
    "-----\n",
    "# EDA\n",
    "Explorary Data Analysis"
   ]
  },
  {
   "cell_type": "code",
   "execution_count": 2,
   "metadata": {
    "vscode": {
     "languageId": "r"
    }
   },
   "outputs": [
    {
     "data": {
      "text/html": [
       "<table class=\"dataframe\">\n",
       "<caption>A data.frame: 6 x 15</caption>\n",
       "<thead>\n",
       "\t<tr><th></th><th scope=col>Subject.ID</th><th scope=col>MRI.ID</th><th scope=col>Group</th><th scope=col>Visit</th><th scope=col>MR.Delay</th><th scope=col>M.F</th><th scope=col>Hand</th><th scope=col>Age</th><th scope=col>EDUC</th><th scope=col>SES</th><th scope=col>MMSE</th><th scope=col>CDR</th><th scope=col>eTIV</th><th scope=col>nWBV</th><th scope=col>ASF</th></tr>\n",
       "\t<tr><th></th><th scope=col>&lt;chr&gt;</th><th scope=col>&lt;chr&gt;</th><th scope=col>&lt;chr&gt;</th><th scope=col>&lt;int&gt;</th><th scope=col>&lt;int&gt;</th><th scope=col>&lt;chr&gt;</th><th scope=col>&lt;chr&gt;</th><th scope=col>&lt;int&gt;</th><th scope=col>&lt;int&gt;</th><th scope=col>&lt;int&gt;</th><th scope=col>&lt;int&gt;</th><th scope=col>&lt;dbl&gt;</th><th scope=col>&lt;int&gt;</th><th scope=col>&lt;dbl&gt;</th><th scope=col>&lt;dbl&gt;</th></tr>\n",
       "</thead>\n",
       "<tbody>\n",
       "\t<tr><th scope=row>1</th><td>OAS2_0001</td><td>OAS2_0001_MR1</td><td>Nondemented</td><td>1</td><td>   0</td><td>M</td><td>R</td><td>87</td><td>14</td><td> 2</td><td>27</td><td>0.0</td><td>1987</td><td>0.696</td><td>0.883</td></tr>\n",
       "\t<tr><th scope=row>2</th><td>OAS2_0001</td><td>OAS2_0001_MR2</td><td>Nondemented</td><td>2</td><td> 457</td><td>M</td><td>R</td><td>88</td><td>14</td><td> 2</td><td>30</td><td>0.0</td><td>2004</td><td>0.681</td><td>0.876</td></tr>\n",
       "\t<tr><th scope=row>3</th><td>OAS2_0002</td><td>OAS2_0002_MR1</td><td>Demented   </td><td>1</td><td>   0</td><td>M</td><td>R</td><td>75</td><td>12</td><td>NA</td><td>23</td><td>0.5</td><td>1678</td><td>0.736</td><td>1.046</td></tr>\n",
       "\t<tr><th scope=row>4</th><td>OAS2_0003</td><td>OAS2_0002_MR2</td><td>Demented   </td><td>2</td><td> 560</td><td>M</td><td>R</td><td>76</td><td>12</td><td>NA</td><td>28</td><td>0.5</td><td>1738</td><td>0.713</td><td>1.010</td></tr>\n",
       "\t<tr><th scope=row>5</th><td>OAS2_0004</td><td>OAS2_0002_MR3</td><td>Demented   </td><td>3</td><td>1895</td><td>M</td><td>R</td><td>80</td><td>12</td><td>NA</td><td>22</td><td>0.5</td><td>1698</td><td>0.701</td><td>1.034</td></tr>\n",
       "\t<tr><th scope=row>6</th><td>OAS2_0005</td><td>OAS2_0004_MR1</td><td>Nondemented</td><td>1</td><td>   0</td><td>F</td><td>R</td><td>88</td><td>18</td><td> 3</td><td>28</td><td>0.0</td><td>1215</td><td>0.710</td><td>1.444</td></tr>\n",
       "</tbody>\n",
       "</table>\n"
      ],
      "text/latex": [
       "A data.frame: 6 x 15\n",
       "\\begin{tabular}{r|lllllllllllllll}\n",
       "  & Subject.ID & MRI.ID & Group & Visit & MR.Delay & M.F & Hand & Age & EDUC & SES & MMSE & CDR & eTIV & nWBV & ASF\\\\\n",
       "  & <chr> & <chr> & <chr> & <int> & <int> & <chr> & <chr> & <int> & <int> & <int> & <int> & <dbl> & <int> & <dbl> & <dbl>\\\\\n",
       "\\hline\n",
       "\t1 & OAS2\\_0001 & OAS2\\_0001\\_MR1 & Nondemented & 1 &    0 & M & R & 87 & 14 &  2 & 27 & 0.0 & 1987 & 0.696 & 0.883\\\\\n",
       "\t2 & OAS2\\_0001 & OAS2\\_0001\\_MR2 & Nondemented & 2 &  457 & M & R & 88 & 14 &  2 & 30 & 0.0 & 2004 & 0.681 & 0.876\\\\\n",
       "\t3 & OAS2\\_0002 & OAS2\\_0002\\_MR1 & Demented    & 1 &    0 & M & R & 75 & 12 & NA & 23 & 0.5 & 1678 & 0.736 & 1.046\\\\\n",
       "\t4 & OAS2\\_0003 & OAS2\\_0002\\_MR2 & Demented    & 2 &  560 & M & R & 76 & 12 & NA & 28 & 0.5 & 1738 & 0.713 & 1.010\\\\\n",
       "\t5 & OAS2\\_0004 & OAS2\\_0002\\_MR3 & Demented    & 3 & 1895 & M & R & 80 & 12 & NA & 22 & 0.5 & 1698 & 0.701 & 1.034\\\\\n",
       "\t6 & OAS2\\_0005 & OAS2\\_0004\\_MR1 & Nondemented & 1 &    0 & F & R & 88 & 18 &  3 & 28 & 0.0 & 1215 & 0.710 & 1.444\\\\\n",
       "\\end{tabular}\n"
      ],
      "text/markdown": [
       "\n",
       "A data.frame: 6 x 15\n",
       "\n",
       "| <!--/--> | Subject.ID &lt;chr&gt; | MRI.ID &lt;chr&gt; | Group &lt;chr&gt; | Visit &lt;int&gt; | MR.Delay &lt;int&gt; | M.F &lt;chr&gt; | Hand &lt;chr&gt; | Age &lt;int&gt; | EDUC &lt;int&gt; | SES &lt;int&gt; | MMSE &lt;int&gt; | CDR &lt;dbl&gt; | eTIV &lt;int&gt; | nWBV &lt;dbl&gt; | ASF &lt;dbl&gt; |\n",
       "|---|---|---|---|---|---|---|---|---|---|---|---|---|---|---|---|\n",
       "| 1 | OAS2_0001 | OAS2_0001_MR1 | Nondemented | 1 |    0 | M | R | 87 | 14 |  2 | 27 | 0.0 | 1987 | 0.696 | 0.883 |\n",
       "| 2 | OAS2_0001 | OAS2_0001_MR2 | Nondemented | 2 |  457 | M | R | 88 | 14 |  2 | 30 | 0.0 | 2004 | 0.681 | 0.876 |\n",
       "| 3 | OAS2_0002 | OAS2_0002_MR1 | Demented    | 1 |    0 | M | R | 75 | 12 | NA | 23 | 0.5 | 1678 | 0.736 | 1.046 |\n",
       "| 4 | OAS2_0003 | OAS2_0002_MR2 | Demented    | 2 |  560 | M | R | 76 | 12 | NA | 28 | 0.5 | 1738 | 0.713 | 1.010 |\n",
       "| 5 | OAS2_0004 | OAS2_0002_MR3 | Demented    | 3 | 1895 | M | R | 80 | 12 | NA | 22 | 0.5 | 1698 | 0.701 | 1.034 |\n",
       "| 6 | OAS2_0005 | OAS2_0004_MR1 | Nondemented | 1 |    0 | F | R | 88 | 18 |  3 | 28 | 0.0 | 1215 | 0.710 | 1.444 |\n",
       "\n"
      ],
      "text/plain": [
       "  Subject.ID MRI.ID        Group       Visit MR.Delay M.F Hand Age EDUC SES\n",
       "1 OAS2_0001  OAS2_0001_MR1 Nondemented 1        0     M   R    87  14    2 \n",
       "2 OAS2_0001  OAS2_0001_MR2 Nondemented 2      457     M   R    88  14    2 \n",
       "3 OAS2_0002  OAS2_0002_MR1 Demented    1        0     M   R    75  12   NA \n",
       "4 OAS2_0003  OAS2_0002_MR2 Demented    2      560     M   R    76  12   NA \n",
       "5 OAS2_0004  OAS2_0002_MR3 Demented    3     1895     M   R    80  12   NA \n",
       "6 OAS2_0005  OAS2_0004_MR1 Nondemented 1        0     F   R    88  18    3 \n",
       "  MMSE CDR eTIV nWBV  ASF  \n",
       "1 27   0.0 1987 0.696 0.883\n",
       "2 30   0.0 2004 0.681 0.876\n",
       "3 23   0.5 1678 0.736 1.046\n",
       "4 28   0.5 1738 0.713 1.010\n",
       "5 22   0.5 1698 0.701 1.034\n",
       "6 28   0.0 1215 0.710 1.444"
      ]
     },
     "metadata": {},
     "output_type": "display_data"
    }
   ],
   "source": [
    "# 데이터 불러오기\n",
    "dddst <- read.csv(\"./Data/dddst.csv\")\n",
    "head(dddst)"
   ]
  },
  {
   "cell_type": "code",
   "execution_count": 3,
   "metadata": {
    "vscode": {
     "languageId": "r"
    }
   },
   "outputs": [
    {
     "data": {
      "text/html": [
       "<table class=\"dataframe\">\n",
       "<caption>A data.frame: 6 x 15</caption>\n",
       "<thead>\n",
       "\t<tr><th></th><th scope=col>Subject.ID</th><th scope=col>MRI.ID</th><th scope=col>Group</th><th scope=col>Visit</th><th scope=col>MR.Delay</th><th scope=col>M.F</th><th scope=col>Hand</th><th scope=col>Age</th><th scope=col>EDUC</th><th scope=col>SES</th><th scope=col>MMSE</th><th scope=col>CDR</th><th scope=col>eTIV</th><th scope=col>nWBV</th><th scope=col>ASF</th></tr>\n",
       "\t<tr><th></th><th scope=col>&lt;chr&gt;</th><th scope=col>&lt;chr&gt;</th><th scope=col>&lt;chr&gt;</th><th scope=col>&lt;int&gt;</th><th scope=col>&lt;int&gt;</th><th scope=col>&lt;chr&gt;</th><th scope=col>&lt;chr&gt;</th><th scope=col>&lt;int&gt;</th><th scope=col>&lt;int&gt;</th><th scope=col>&lt;int&gt;</th><th scope=col>&lt;int&gt;</th><th scope=col>&lt;dbl&gt;</th><th scope=col>&lt;int&gt;</th><th scope=col>&lt;dbl&gt;</th><th scope=col>&lt;dbl&gt;</th></tr>\n",
       "</thead>\n",
       "<tbody>\n",
       "\t<tr><th scope=row>1205</th><td>OAS2_1204</td><td>OAS2_0161_MR192</td><td>Nondemented</td><td>3</td><td>   0</td><td>F</td><td>R</td><td>73</td><td>18</td><td>2</td><td>28</td><td>1</td><td>1483</td><td>0.748</td><td>1.183</td></tr>\n",
       "\t<tr><th scope=row>1206</th><td>OAS2_1205</td><td>OAS2_0161_MR193</td><td>Nondemented</td><td>1</td><td> 733</td><td>F</td><td>R</td><td>72</td><td>18</td><td>2</td><td>30</td><td>0</td><td>1433</td><td>0.723</td><td>1.225</td></tr>\n",
       "\t<tr><th scope=row>1207</th><td>OAS2_1206</td><td>OAS2_0161_MR194</td><td>Nondemented</td><td>2</td><td>1713</td><td>F</td><td>R</td><td>73</td><td>16</td><td>2</td><td>30</td><td>0</td><td>1414</td><td>0.727</td><td>1.242</td></tr>\n",
       "\t<tr><th scope=row>1208</th><td>OAS2_1207</td><td>OAS2_0161_MR195</td><td>Converted  </td><td>1</td><td>   0</td><td>M</td><td>R</td><td>68</td><td>16</td><td>2</td><td>29</td><td>1</td><td>1695</td><td>0.711</td><td>1.036</td></tr>\n",
       "\t<tr><th scope=row>1209</th><td>OAS2_1208</td><td>OAS2_0161_MR196</td><td>Demented   </td><td>2</td><td> 595</td><td>M</td><td>R</td><td>69</td><td>18</td><td>2</td><td>30</td><td>1</td><td>1708</td><td>0.703</td><td>1.028</td></tr>\n",
       "\t<tr><th scope=row>1210</th><td>OAS2_1209</td><td>OAS2_0161_MR197</td><td>Converted  </td><td>1</td><td>   0</td><td>M</td><td>R</td><td>71</td><td>18</td><td>3</td><td>30</td><td>1</td><td>1712</td><td>0.691</td><td>1.025</td></tr>\n",
       "</tbody>\n",
       "</table>\n"
      ],
      "text/latex": [
       "A data.frame: 6 x 15\n",
       "\\begin{tabular}{r|lllllllllllllll}\n",
       "  & Subject.ID & MRI.ID & Group & Visit & MR.Delay & M.F & Hand & Age & EDUC & SES & MMSE & CDR & eTIV & nWBV & ASF\\\\\n",
       "  & <chr> & <chr> & <chr> & <int> & <int> & <chr> & <chr> & <int> & <int> & <int> & <int> & <dbl> & <int> & <dbl> & <dbl>\\\\\n",
       "\\hline\n",
       "\t1205 & OAS2\\_1204 & OAS2\\_0161\\_MR192 & Nondemented & 3 &    0 & F & R & 73 & 18 & 2 & 28 & 1 & 1483 & 0.748 & 1.183\\\\\n",
       "\t1206 & OAS2\\_1205 & OAS2\\_0161\\_MR193 & Nondemented & 1 &  733 & F & R & 72 & 18 & 2 & 30 & 0 & 1433 & 0.723 & 1.225\\\\\n",
       "\t1207 & OAS2\\_1206 & OAS2\\_0161\\_MR194 & Nondemented & 2 & 1713 & F & R & 73 & 16 & 2 & 30 & 0 & 1414 & 0.727 & 1.242\\\\\n",
       "\t1208 & OAS2\\_1207 & OAS2\\_0161\\_MR195 & Converted   & 1 &    0 & M & R & 68 & 16 & 2 & 29 & 1 & 1695 & 0.711 & 1.036\\\\\n",
       "\t1209 & OAS2\\_1208 & OAS2\\_0161\\_MR196 & Demented    & 2 &  595 & M & R & 69 & 18 & 2 & 30 & 1 & 1708 & 0.703 & 1.028\\\\\n",
       "\t1210 & OAS2\\_1209 & OAS2\\_0161\\_MR197 & Converted   & 1 &    0 & M & R & 71 & 18 & 3 & 30 & 1 & 1712 & 0.691 & 1.025\\\\\n",
       "\\end{tabular}\n"
      ],
      "text/markdown": [
       "\n",
       "A data.frame: 6 x 15\n",
       "\n",
       "| <!--/--> | Subject.ID &lt;chr&gt; | MRI.ID &lt;chr&gt; | Group &lt;chr&gt; | Visit &lt;int&gt; | MR.Delay &lt;int&gt; | M.F &lt;chr&gt; | Hand &lt;chr&gt; | Age &lt;int&gt; | EDUC &lt;int&gt; | SES &lt;int&gt; | MMSE &lt;int&gt; | CDR &lt;dbl&gt; | eTIV &lt;int&gt; | nWBV &lt;dbl&gt; | ASF &lt;dbl&gt; |\n",
       "|---|---|---|---|---|---|---|---|---|---|---|---|---|---|---|---|\n",
       "| 1205 | OAS2_1204 | OAS2_0161_MR192 | Nondemented | 3 |    0 | F | R | 73 | 18 | 2 | 28 | 1 | 1483 | 0.748 | 1.183 |\n",
       "| 1206 | OAS2_1205 | OAS2_0161_MR193 | Nondemented | 1 |  733 | F | R | 72 | 18 | 2 | 30 | 0 | 1433 | 0.723 | 1.225 |\n",
       "| 1207 | OAS2_1206 | OAS2_0161_MR194 | Nondemented | 2 | 1713 | F | R | 73 | 16 | 2 | 30 | 0 | 1414 | 0.727 | 1.242 |\n",
       "| 1208 | OAS2_1207 | OAS2_0161_MR195 | Converted   | 1 |    0 | M | R | 68 | 16 | 2 | 29 | 1 | 1695 | 0.711 | 1.036 |\n",
       "| 1209 | OAS2_1208 | OAS2_0161_MR196 | Demented    | 2 |  595 | M | R | 69 | 18 | 2 | 30 | 1 | 1708 | 0.703 | 1.028 |\n",
       "| 1210 | OAS2_1209 | OAS2_0161_MR197 | Converted   | 1 |    0 | M | R | 71 | 18 | 3 | 30 | 1 | 1712 | 0.691 | 1.025 |\n",
       "\n"
      ],
      "text/plain": [
       "     Subject.ID MRI.ID          Group       Visit MR.Delay M.F Hand Age EDUC\n",
       "1205 OAS2_1204  OAS2_0161_MR192 Nondemented 3        0     F   R    73  18  \n",
       "1206 OAS2_1205  OAS2_0161_MR193 Nondemented 1      733     F   R    72  18  \n",
       "1207 OAS2_1206  OAS2_0161_MR194 Nondemented 2     1713     F   R    73  16  \n",
       "1208 OAS2_1207  OAS2_0161_MR195 Converted   1        0     M   R    68  16  \n",
       "1209 OAS2_1208  OAS2_0161_MR196 Demented    2      595     M   R    69  18  \n",
       "1210 OAS2_1209  OAS2_0161_MR197 Converted   1        0     M   R    71  18  \n",
       "     SES MMSE CDR eTIV nWBV  ASF  \n",
       "1205 2   28   1   1483 0.748 1.183\n",
       "1206 2   30   0   1433 0.723 1.225\n",
       "1207 2   30   0   1414 0.727 1.242\n",
       "1208 2   29   1   1695 0.711 1.036\n",
       "1209 2   30   1   1708 0.703 1.028\n",
       "1210 3   30   1   1712 0.691 1.025"
      ]
     },
     "metadata": {},
     "output_type": "display_data"
    }
   ],
   "source": [
    "tail(dddst)"
   ]
  },
  {
   "cell_type": "code",
   "execution_count": 4,
   "metadata": {
    "vscode": {
     "languageId": "r"
    }
   },
   "outputs": [
    {
     "name": "stdout",
     "output_type": "stream",
     "text": [
      "'data.frame':\t1210 obs. of  15 variables:\n",
      " $ Subject.ID: chr  \"OAS2_0001\" \"OAS2_0001\" \"OAS2_0002\" \"OAS2_0003\" ...\n",
      " $ MRI.ID    : chr  \"OAS2_0001_MR1\" \"OAS2_0001_MR2\" \"OAS2_0002_MR1\" \"OAS2_0002_MR2\" ...\n",
      " $ Group     : chr  \"Nondemented\" \"Nondemented\" \"Demented\" \"Demented\" ...\n",
      " $ Visit     : int  1 2 1 2 3 1 2 1 2 3 ...\n",
      " $ MR.Delay  : int  0 457 0 560 1895 0 538 0 1010 1603 ...\n",
      " $ M.F       : chr  \"M\" \"M\" \"M\" \"M\" ...\n",
      " $ Hand      : chr  \"R\" \"R\" \"R\" \"R\" ...\n",
      " $ Age       : int  87 88 75 76 80 88 90 80 83 85 ...\n",
      " $ EDUC      : int  14 14 12 12 12 18 18 12 12 12 ...\n",
      " $ SES       : int  2 2 NA NA NA 3 3 4 4 4 ...\n",
      " $ MMSE      : int  27 30 23 28 22 28 27 28 29 30 ...\n",
      " $ CDR       : num  0 0 0.5 0.5 0.5 0 0 0 0.5 0 ...\n",
      " $ eTIV      : int  1987 2004 1678 1738 1698 1215 1200 1689 1701 1699 ...\n",
      " $ nWBV      : num  0.696 0.681 0.736 0.713 0.701 0.71 0.718 0.712 0.711 0.705 ...\n",
      " $ ASF       : num  0.883 0.876 1.046 1.01 1.034 ...\n"
     ]
    }
   ],
   "source": [
    "str(dddst)"
   ]
  },
  {
   "cell_type": "code",
   "execution_count": 5,
   "metadata": {
    "vscode": {
     "languageId": "r"
    }
   },
   "outputs": [
    {
     "data": {
      "text/html": [
       "<table class=\"dataframe\">\n",
       "<caption>A data.frame: 6 x 15</caption>\n",
       "<thead>\n",
       "\t<tr><th></th><th scope=col>Subject.ID</th><th scope=col>MRI.ID</th><th scope=col>Group</th><th scope=col>Visit</th><th scope=col>MR.Delay</th><th scope=col>M.F</th><th scope=col>Hand</th><th scope=col>Age</th><th scope=col>EDUC</th><th scope=col>SES</th><th scope=col>MMSE</th><th scope=col>CDR</th><th scope=col>eTIV</th><th scope=col>nWBV</th><th scope=col>ASF</th></tr>\n",
       "\t<tr><th></th><th scope=col>&lt;chr&gt;</th><th scope=col>&lt;chr&gt;</th><th scope=col>&lt;chr&gt;</th><th scope=col>&lt;int&gt;</th><th scope=col>&lt;int&gt;</th><th scope=col>&lt;chr&gt;</th><th scope=col>&lt;chr&gt;</th><th scope=col>&lt;int&gt;</th><th scope=col>&lt;int&gt;</th><th scope=col>&lt;int&gt;</th><th scope=col>&lt;int&gt;</th><th scope=col>&lt;dbl&gt;</th><th scope=col>&lt;int&gt;</th><th scope=col>&lt;dbl&gt;</th><th scope=col>&lt;dbl&gt;</th></tr>\n",
       "</thead>\n",
       "<tbody>\n",
       "\t<tr><th scope=row>1</th><td>OAS2_0001</td><td>OAS2_0001_MR1</td><td>Nondemented</td><td>1</td><td>   0</td><td>M</td><td>R</td><td>87</td><td>14</td><td> 2</td><td>27</td><td>0.0</td><td>1987</td><td>0.696</td><td>0.883</td></tr>\n",
       "\t<tr><th scope=row>2</th><td>OAS2_0001</td><td>OAS2_0001_MR2</td><td>Nondemented</td><td>2</td><td> 457</td><td>M</td><td>R</td><td>88</td><td>14</td><td> 2</td><td>30</td><td>0.0</td><td>2004</td><td>0.681</td><td>0.876</td></tr>\n",
       "\t<tr><th scope=row>3</th><td>OAS2_0002</td><td>OAS2_0002_MR1</td><td>Demented   </td><td>1</td><td>   0</td><td>M</td><td>R</td><td>75</td><td>12</td><td>NA</td><td>23</td><td>0.5</td><td>1678</td><td>0.736</td><td>1.046</td></tr>\n",
       "\t<tr><th scope=row>4</th><td>OAS2_0002</td><td>OAS2_0002_MR2</td><td>Demented   </td><td>2</td><td> 560</td><td>M</td><td>R</td><td>76</td><td>12</td><td>NA</td><td>28</td><td>0.5</td><td>1738</td><td>0.713</td><td>1.010</td></tr>\n",
       "\t<tr><th scope=row>5</th><td>OAS2_0002</td><td>OAS2_0002_MR3</td><td>Demented   </td><td>3</td><td>1895</td><td>M</td><td>R</td><td>80</td><td>12</td><td>NA</td><td>22</td><td>0.5</td><td>1698</td><td>0.701</td><td>1.034</td></tr>\n",
       "\t<tr><th scope=row>6</th><td>OAS2_0004</td><td>OAS2_0004_MR1</td><td>Nondemented</td><td>1</td><td>   0</td><td>F</td><td>R</td><td>88</td><td>18</td><td> 3</td><td>28</td><td>0.0</td><td>1215</td><td>0.710</td><td>1.444</td></tr>\n",
       "</tbody>\n",
       "</table>\n"
      ],
      "text/latex": [
       "A data.frame: 6 x 15\n",
       "\\begin{tabular}{r|lllllllllllllll}\n",
       "  & Subject.ID & MRI.ID & Group & Visit & MR.Delay & M.F & Hand & Age & EDUC & SES & MMSE & CDR & eTIV & nWBV & ASF\\\\\n",
       "  & <chr> & <chr> & <chr> & <int> & <int> & <chr> & <chr> & <int> & <int> & <int> & <int> & <dbl> & <int> & <dbl> & <dbl>\\\\\n",
       "\\hline\n",
       "\t1 & OAS2\\_0001 & OAS2\\_0001\\_MR1 & Nondemented & 1 &    0 & M & R & 87 & 14 &  2 & 27 & 0.0 & 1987 & 0.696 & 0.883\\\\\n",
       "\t2 & OAS2\\_0001 & OAS2\\_0001\\_MR2 & Nondemented & 2 &  457 & M & R & 88 & 14 &  2 & 30 & 0.0 & 2004 & 0.681 & 0.876\\\\\n",
       "\t3 & OAS2\\_0002 & OAS2\\_0002\\_MR1 & Demented    & 1 &    0 & M & R & 75 & 12 & NA & 23 & 0.5 & 1678 & 0.736 & 1.046\\\\\n",
       "\t4 & OAS2\\_0002 & OAS2\\_0002\\_MR2 & Demented    & 2 &  560 & M & R & 76 & 12 & NA & 28 & 0.5 & 1738 & 0.713 & 1.010\\\\\n",
       "\t5 & OAS2\\_0002 & OAS2\\_0002\\_MR3 & Demented    & 3 & 1895 & M & R & 80 & 12 & NA & 22 & 0.5 & 1698 & 0.701 & 1.034\\\\\n",
       "\t6 & OAS2\\_0004 & OAS2\\_0004\\_MR1 & Nondemented & 1 &    0 & F & R & 88 & 18 &  3 & 28 & 0.0 & 1215 & 0.710 & 1.444\\\\\n",
       "\\end{tabular}\n"
      ],
      "text/markdown": [
       "\n",
       "A data.frame: 6 x 15\n",
       "\n",
       "| <!--/--> | Subject.ID &lt;chr&gt; | MRI.ID &lt;chr&gt; | Group &lt;chr&gt; | Visit &lt;int&gt; | MR.Delay &lt;int&gt; | M.F &lt;chr&gt; | Hand &lt;chr&gt; | Age &lt;int&gt; | EDUC &lt;int&gt; | SES &lt;int&gt; | MMSE &lt;int&gt; | CDR &lt;dbl&gt; | eTIV &lt;int&gt; | nWBV &lt;dbl&gt; | ASF &lt;dbl&gt; |\n",
       "|---|---|---|---|---|---|---|---|---|---|---|---|---|---|---|---|\n",
       "| 1 | OAS2_0001 | OAS2_0001_MR1 | Nondemented | 1 |    0 | M | R | 87 | 14 |  2 | 27 | 0.0 | 1987 | 0.696 | 0.883 |\n",
       "| 2 | OAS2_0001 | OAS2_0001_MR2 | Nondemented | 2 |  457 | M | R | 88 | 14 |  2 | 30 | 0.0 | 2004 | 0.681 | 0.876 |\n",
       "| 3 | OAS2_0002 | OAS2_0002_MR1 | Demented    | 1 |    0 | M | R | 75 | 12 | NA | 23 | 0.5 | 1678 | 0.736 | 1.046 |\n",
       "| 4 | OAS2_0002 | OAS2_0002_MR2 | Demented    | 2 |  560 | M | R | 76 | 12 | NA | 28 | 0.5 | 1738 | 0.713 | 1.010 |\n",
       "| 5 | OAS2_0002 | OAS2_0002_MR3 | Demented    | 3 | 1895 | M | R | 80 | 12 | NA | 22 | 0.5 | 1698 | 0.701 | 1.034 |\n",
       "| 6 | OAS2_0004 | OAS2_0004_MR1 | Nondemented | 1 |    0 | F | R | 88 | 18 |  3 | 28 | 0.0 | 1215 | 0.710 | 1.444 |\n",
       "\n"
      ],
      "text/plain": [
       "  Subject.ID MRI.ID        Group       Visit MR.Delay M.F Hand Age EDUC SES\n",
       "1 OAS2_0001  OAS2_0001_MR1 Nondemented 1        0     M   R    87  14    2 \n",
       "2 OAS2_0001  OAS2_0001_MR2 Nondemented 2      457     M   R    88  14    2 \n",
       "3 OAS2_0002  OAS2_0002_MR1 Demented    1        0     M   R    75  12   NA \n",
       "4 OAS2_0002  OAS2_0002_MR2 Demented    2      560     M   R    76  12   NA \n",
       "5 OAS2_0002  OAS2_0002_MR3 Demented    3     1895     M   R    80  12   NA \n",
       "6 OAS2_0004  OAS2_0004_MR1 Nondemented 1        0     F   R    88  18    3 \n",
       "  MMSE CDR eTIV nWBV  ASF  \n",
       "1 27   0.0 1987 0.696 0.883\n",
       "2 30   0.0 2004 0.681 0.876\n",
       "3 23   0.5 1678 0.736 1.046\n",
       "4 28   0.5 1738 0.713 1.010\n",
       "5 22   0.5 1698 0.701 1.034\n",
       "6 28   0.0 1215 0.710 1.444"
      ]
     },
     "metadata": {},
     "output_type": "display_data"
    }
   ],
   "source": [
    "dementia <- read.csv(\"./Data/oasis_longitudinal.csv\")\n",
    "head(dementia)"
   ]
  },
  {
   "cell_type": "code",
   "execution_count": 6,
   "metadata": {
    "vscode": {
     "languageId": "r"
    }
   },
   "outputs": [
    {
     "data": {
      "text/html": [
       "<table class=\"dataframe\">\n",
       "<caption>A data.frame: 6 x 15</caption>\n",
       "<thead>\n",
       "\t<tr><th></th><th scope=col>Subject.ID</th><th scope=col>MRI.ID</th><th scope=col>Group</th><th scope=col>Visit</th><th scope=col>MR.Delay</th><th scope=col>M.F</th><th scope=col>Hand</th><th scope=col>Age</th><th scope=col>EDUC</th><th scope=col>SES</th><th scope=col>MMSE</th><th scope=col>CDR</th><th scope=col>eTIV</th><th scope=col>nWBV</th><th scope=col>ASF</th></tr>\n",
       "\t<tr><th></th><th scope=col>&lt;chr&gt;</th><th scope=col>&lt;chr&gt;</th><th scope=col>&lt;chr&gt;</th><th scope=col>&lt;int&gt;</th><th scope=col>&lt;int&gt;</th><th scope=col>&lt;chr&gt;</th><th scope=col>&lt;chr&gt;</th><th scope=col>&lt;int&gt;</th><th scope=col>&lt;int&gt;</th><th scope=col>&lt;int&gt;</th><th scope=col>&lt;int&gt;</th><th scope=col>&lt;dbl&gt;</th><th scope=col>&lt;int&gt;</th><th scope=col>&lt;dbl&gt;</th><th scope=col>&lt;dbl&gt;</th></tr>\n",
       "</thead>\n",
       "<tbody>\n",
       "\t<tr><th scope=row>368</th><td>OAS2_0185</td><td>OAS2_0185_MR1</td><td>Demented   </td><td>1</td><td>   0</td><td>M</td><td>R</td><td>80</td><td>16</td><td>1</td><td>28</td><td>0.5</td><td>1704</td><td>0.711</td><td>1.030</td></tr>\n",
       "\t<tr><th scope=row>369</th><td>OAS2_0185</td><td>OAS2_0185_MR2</td><td>Demented   </td><td>2</td><td> 842</td><td>M</td><td>R</td><td>82</td><td>16</td><td>1</td><td>28</td><td>0.5</td><td>1693</td><td>0.694</td><td>1.037</td></tr>\n",
       "\t<tr><th scope=row>370</th><td>OAS2_0185</td><td>OAS2_0185_MR3</td><td>Demented   </td><td>3</td><td>2297</td><td>M</td><td>R</td><td>86</td><td>16</td><td>1</td><td>26</td><td>0.5</td><td>1688</td><td>0.675</td><td>1.040</td></tr>\n",
       "\t<tr><th scope=row>371</th><td>OAS2_0186</td><td>OAS2_0186_MR1</td><td>Nondemented</td><td>1</td><td>   0</td><td>F</td><td>R</td><td>61</td><td>13</td><td>2</td><td>30</td><td>0.0</td><td>1319</td><td>0.801</td><td>1.331</td></tr>\n",
       "\t<tr><th scope=row>372</th><td>OAS2_0186</td><td>OAS2_0186_MR2</td><td>Nondemented</td><td>2</td><td> 763</td><td>F</td><td>R</td><td>63</td><td>13</td><td>2</td><td>30</td><td>0.0</td><td>1327</td><td>0.796</td><td>1.323</td></tr>\n",
       "\t<tr><th scope=row>373</th><td>OAS2_0186</td><td>OAS2_0186_MR3</td><td>Nondemented</td><td>3</td><td>1608</td><td>F</td><td>R</td><td>65</td><td>13</td><td>2</td><td>30</td><td>0.0</td><td>1333</td><td>0.801</td><td>1.317</td></tr>\n",
       "</tbody>\n",
       "</table>\n"
      ],
      "text/latex": [
       "A data.frame: 6 x 15\n",
       "\\begin{tabular}{r|lllllllllllllll}\n",
       "  & Subject.ID & MRI.ID & Group & Visit & MR.Delay & M.F & Hand & Age & EDUC & SES & MMSE & CDR & eTIV & nWBV & ASF\\\\\n",
       "  & <chr> & <chr> & <chr> & <int> & <int> & <chr> & <chr> & <int> & <int> & <int> & <int> & <dbl> & <int> & <dbl> & <dbl>\\\\\n",
       "\\hline\n",
       "\t368 & OAS2\\_0185 & OAS2\\_0185\\_MR1 & Demented    & 1 &    0 & M & R & 80 & 16 & 1 & 28 & 0.5 & 1704 & 0.711 & 1.030\\\\\n",
       "\t369 & OAS2\\_0185 & OAS2\\_0185\\_MR2 & Demented    & 2 &  842 & M & R & 82 & 16 & 1 & 28 & 0.5 & 1693 & 0.694 & 1.037\\\\\n",
       "\t370 & OAS2\\_0185 & OAS2\\_0185\\_MR3 & Demented    & 3 & 2297 & M & R & 86 & 16 & 1 & 26 & 0.5 & 1688 & 0.675 & 1.040\\\\\n",
       "\t371 & OAS2\\_0186 & OAS2\\_0186\\_MR1 & Nondemented & 1 &    0 & F & R & 61 & 13 & 2 & 30 & 0.0 & 1319 & 0.801 & 1.331\\\\\n",
       "\t372 & OAS2\\_0186 & OAS2\\_0186\\_MR2 & Nondemented & 2 &  763 & F & R & 63 & 13 & 2 & 30 & 0.0 & 1327 & 0.796 & 1.323\\\\\n",
       "\t373 & OAS2\\_0186 & OAS2\\_0186\\_MR3 & Nondemented & 3 & 1608 & F & R & 65 & 13 & 2 & 30 & 0.0 & 1333 & 0.801 & 1.317\\\\\n",
       "\\end{tabular}\n"
      ],
      "text/markdown": [
       "\n",
       "A data.frame: 6 x 15\n",
       "\n",
       "| <!--/--> | Subject.ID &lt;chr&gt; | MRI.ID &lt;chr&gt; | Group &lt;chr&gt; | Visit &lt;int&gt; | MR.Delay &lt;int&gt; | M.F &lt;chr&gt; | Hand &lt;chr&gt; | Age &lt;int&gt; | EDUC &lt;int&gt; | SES &lt;int&gt; | MMSE &lt;int&gt; | CDR &lt;dbl&gt; | eTIV &lt;int&gt; | nWBV &lt;dbl&gt; | ASF &lt;dbl&gt; |\n",
       "|---|---|---|---|---|---|---|---|---|---|---|---|---|---|---|---|\n",
       "| 368 | OAS2_0185 | OAS2_0185_MR1 | Demented    | 1 |    0 | M | R | 80 | 16 | 1 | 28 | 0.5 | 1704 | 0.711 | 1.030 |\n",
       "| 369 | OAS2_0185 | OAS2_0185_MR2 | Demented    | 2 |  842 | M | R | 82 | 16 | 1 | 28 | 0.5 | 1693 | 0.694 | 1.037 |\n",
       "| 370 | OAS2_0185 | OAS2_0185_MR3 | Demented    | 3 | 2297 | M | R | 86 | 16 | 1 | 26 | 0.5 | 1688 | 0.675 | 1.040 |\n",
       "| 371 | OAS2_0186 | OAS2_0186_MR1 | Nondemented | 1 |    0 | F | R | 61 | 13 | 2 | 30 | 0.0 | 1319 | 0.801 | 1.331 |\n",
       "| 372 | OAS2_0186 | OAS2_0186_MR2 | Nondemented | 2 |  763 | F | R | 63 | 13 | 2 | 30 | 0.0 | 1327 | 0.796 | 1.323 |\n",
       "| 373 | OAS2_0186 | OAS2_0186_MR3 | Nondemented | 3 | 1608 | F | R | 65 | 13 | 2 | 30 | 0.0 | 1333 | 0.801 | 1.317 |\n",
       "\n"
      ],
      "text/plain": [
       "    Subject.ID MRI.ID        Group       Visit MR.Delay M.F Hand Age EDUC SES\n",
       "368 OAS2_0185  OAS2_0185_MR1 Demented    1        0     M   R    80  16   1  \n",
       "369 OAS2_0185  OAS2_0185_MR2 Demented    2      842     M   R    82  16   1  \n",
       "370 OAS2_0185  OAS2_0185_MR3 Demented    3     2297     M   R    86  16   1  \n",
       "371 OAS2_0186  OAS2_0186_MR1 Nondemented 1        0     F   R    61  13   2  \n",
       "372 OAS2_0186  OAS2_0186_MR2 Nondemented 2      763     F   R    63  13   2  \n",
       "373 OAS2_0186  OAS2_0186_MR3 Nondemented 3     1608     F   R    65  13   2  \n",
       "    MMSE CDR eTIV nWBV  ASF  \n",
       "368 28   0.5 1704 0.711 1.030\n",
       "369 28   0.5 1693 0.694 1.037\n",
       "370 26   0.5 1688 0.675 1.040\n",
       "371 30   0.0 1319 0.801 1.331\n",
       "372 30   0.0 1327 0.796 1.323\n",
       "373 30   0.0 1333 0.801 1.317"
      ]
     },
     "metadata": {},
     "output_type": "display_data"
    }
   ],
   "source": [
    "tail(dementia)"
   ]
  },
  {
   "cell_type": "code",
   "execution_count": 7,
   "metadata": {
    "vscode": {
     "languageId": "r"
    }
   },
   "outputs": [
    {
     "name": "stdout",
     "output_type": "stream",
     "text": [
      "'data.frame':\t373 obs. of  15 variables:\n",
      " $ Subject.ID: chr  \"OAS2_0001\" \"OAS2_0001\" \"OAS2_0002\" \"OAS2_0002\" ...\n",
      " $ MRI.ID    : chr  \"OAS2_0001_MR1\" \"OAS2_0001_MR2\" \"OAS2_0002_MR1\" \"OAS2_0002_MR2\" ...\n",
      " $ Group     : chr  \"Nondemented\" \"Nondemented\" \"Demented\" \"Demented\" ...\n",
      " $ Visit     : int  1 2 1 2 3 1 2 1 2 3 ...\n",
      " $ MR.Delay  : int  0 457 0 560 1895 0 538 0 1010 1603 ...\n",
      " $ M.F       : chr  \"M\" \"M\" \"M\" \"M\" ...\n",
      " $ Hand      : chr  \"R\" \"R\" \"R\" \"R\" ...\n",
      " $ Age       : int  87 88 75 76 80 88 90 80 83 85 ...\n",
      " $ EDUC      : int  14 14 12 12 12 18 18 12 12 12 ...\n",
      " $ SES       : int  2 2 NA NA NA 3 3 4 4 4 ...\n",
      " $ MMSE      : int  27 30 23 28 22 28 27 28 29 30 ...\n",
      " $ CDR       : num  0 0 0.5 0.5 0.5 0 0 0 0.5 0 ...\n",
      " $ eTIV      : int  1987 2004 1678 1738 1698 1215 1200 1689 1701 1699 ...\n",
      " $ nWBV      : num  0.696 0.681 0.736 0.713 0.701 0.71 0.718 0.712 0.711 0.705 ...\n",
      " $ ASF       : num  0.883 0.876 1.046 1.01 1.034 ...\n"
     ]
    }
   ],
   "source": [
    "# 데이터 구조 파악\n",
    "str(dementia)"
   ]
  },
  {
   "cell_type": "markdown",
   "metadata": {},
   "source": [
    "Group, M.F, SES,  : chr -> factor 변경하기\n",
    "Hand 삭제 처리"
   ]
  },
  {
   "cell_type": "markdown",
   "metadata": {},
   "source": [
    "------\n",
    "### 컬럼 내용 확인\n",
    "- Subject.ID : 환자 아이디\n",
    "- MRI.ID : MRI 촬영 아이디\n",
    "- Group : Demented / Nondemented / Converted : 치매/치매x/치매x->치매\n",
    "- Visit : 방문 횟수\n",
    "- MR.Delay\n",
    "- M.F : 성별 (Male / Female)\n",
    "- Hand : 주 사용 손 (모두 오른손잡이)\n",
    "- Age : 나이\n",
    "- EDUC : 교육기간\n",
    "- SES : Socioeconomic status as assessed by the Hollingshead Index of Social Position and classified into categories from 1 (highest status) to 5 (lowest status)\n",
    "- MMSE : Mini-Mental State Examination score (range is from 0 = worst to 30 = best)         단시간 내에 간단하게 노인의 인지기능과 치매여부를 평가하기 위한 표준화된 검사도구\n",
    "- CDR : Clinical Dementia Rating (0 = no dementia, 0.5 = very mild AD, 1 = mild AD, 2 = moderate AD)\n",
    "- eTIV : Estimated total intracranial volume, mm3\n",
    "- nWBV : Normalized whole-brain volume, expressed as a percent of all voxels in the atlas-masked image that are labeled as gray or white matter by the automated tissue segmentation process\n",
    "- ASF : Atlas scaling factor (unitless). Computed scaling factor that transforms native-space brain and skull to the atlas target (i.e., the determinant of the transform matrix)"
   ]
  },
  {
   "cell_type": "markdown",
   "metadata": {},
   "source": [
    "- SES : Socioeconomic status as assessed by the Hollingshead Index of Social Position and classified into categories from 1 (highest status) to 5 (lowest status)"
   ]
  },
  {
   "cell_type": "markdown",
   "metadata": {},
   "source": [
    "- MMSE : Mini-Mental State Examination score (range is from 0 = worst to 30 = best)             \n",
    "       \n",
    "단시간 내에 간단하게 노인의 인지기능과 치매여부를 평가하기 위한 표준화된 검사도          \n",
    "Mini–Mental State Examination (MMSE)            \n",
    "The Mini–Mental State Examination (MMSE) or Folstein test is a 30-point questionnaire that is used extensively in clinical and research settings to measure cognitive impairment. It is commonly used in medicine and allied health to screen for dementia. It is also used to estimate the severity and progression of cognitive impairment and to follow the course of cognitive changes in an individual over time; thus making it an effective way to document an individual’s response to treatment. The MMSE’s purpose has been not, on its own, to provide a diagnosis for any particular nosological entity.            \n",
    "\n",
    "Interpretations             \n",
    "\n",
    "Any score greater than or equal to 24 points (out of 30) indicates a normal cognition. Below this, scores can indicate severe (≤9 points), moderate (10–18 points) or mild (19–23 points) cognitive impairment. The raw score may also need to be corrected for educational attainment and age. That is, a maximal score of 30 points can never rule out dementia. Low to very low scores correlate closely with the presence of dementia, although other mental disorders can also lead to abnormal findings on MMSE testing. The presence of purely physical problems can also interfere with interpretation if not properly noted; for example, a patient may be physically unable to hear or read instructions properly, or may have a motor deficit that affects writing and drawing skills.               \n",
    "    - 중증(9점 이하)                \n",
    "    - 중등도(10~18점)               \n",
    "    - 경도(19~23점)             \n",
    "    - 24점(30점 만점) 이상의 점수는 정상적인 인지               "
   ]
  },
  {
   "cell_type": "markdown",
   "metadata": {},
   "source": [
    "- CDR : Clinical Dementia Rating (0 = no dementia, 0.5 = very mild AD, 1 = mild AD, 2 = moderate AD)\n",
    "The CDR™ in one aspect is a 5-point scale used to characterize six domains of cognitive and functional performance applicable to Alzheimer disease and related dementias: Memory, Orientation, Judgment & Problem Solving, Community Affairs, Home & Hobbies, and Personal Care. The necessary information to make each rating is obtained through a semi-structured interview of the patient and a reliable informant or collateral source (e.g., family member) referred to as the CDR™ Assessment Protocol.\n",
    "\n",
    "The CDR™ Scoring Table provides descriptive anchors that guide the clinician in making appropriate ratings based on interview data and clinical judgment. In addition to ratings for each domain, an overall CDR™ score may be calculated through the use of an CDR™ Scoring Algorithm. This score is useful for characterizing and tracking a patient’s level of impairment/dementia:              \n",
    "    - 0 = Normal (정상)             \n",
    "    - 0.5 = Very Mild Dementia (매우 경미한 치매)               \n",
    "    - 1 = Mild Dementia (경증 치매)             \n",
    "    - 2 = Moderate Dementia (중등도 치매)"
   ]
  },
  {
   "cell_type": "markdown",
   "metadata": {},
   "source": [
    "- eTIV : Estimated total intracranial volume, mm3\n",
    "The ICV measure, sometimes referred to as total intracranial volume (TIV), refers to the estimated volume of the cranial cavity as outlined by the supratentorial dura matter or cerebral contour when dura is not clearly detectable. ICV is often used in studies involved with analysis of the cerebral structure under different imaging modalities, such as Magnetic Resonance (MR), MR and Diffusion Tensor Imaging (DTI), MR and Single-photon Emission Computed Tomography (SPECT), Ultrasound and Computed Tomography (CT). ICV consistency during aging makes it a reliable tool for correction of head size variation across subjects in studies that rely on morphological features of the brain. ICV, along with age and gender are reported as covariates to adjust for regression analyses in investigating progressive neurodegenerative brain disorders, such as Alzheimer’s disease, aging and cognitive impairment. ICV has also been utilized as an independent voxel based morphometric feature to evaluate age-related changes in the structure of premorbid brai, determine characterizing atrophy patterns in subjects with mild cognitive impairment (MCI) and Alzheimer’s disease (AD), delineate structural abnormalities in the white matter (WM) in schizophrenia, epilepsy, and gauge cognitive efficacy.\n",
    "추정 총 두개내 부피(eTIV)\n",
    "때때로 총 두개내 용적(TIV)이라고도 하는 ICV 측정은 경막이 명확하게 감지되지 않을 때 천막위 경막 물질 또는 대뇌 윤곽에 의해 설명된 두개골강의 추정 부피를 나타냅니다. ICV는 자기 공명(MR), MR 및 확산 텐서 영상(DTI), MR 및 SPECT(단일 광자 방출 컴퓨터 단층 촬영), 초음파 및 컴퓨터와 같은 다양한 영상 방식으로 대뇌 구조를 분석하는 연구에 자주 사용됩니다. 단층촬영(CT). 노화 중 ICV 일관성은 뇌의 형태학적 특징에 의존하는 연구에서 피험자 간의 머리 크기 변화를 교정하기 위한 신뢰할 수 있는 도구입니다. ICV는 연령 및 성별과 함께 알츠하이머병, 노화 및 인지 장애와 같은 진행성 신경퇴행성 뇌 장애를 조사할 때 회귀 분석을 조정하기 위한 공변량으로 보고됩니다. ICV는 또한 병전 뇌 구조의 연령 관련 변화를 평가하고, 경도 인지 장애(MCI) 및 알츠하이머병(AD) 환자의 위축 패턴을 특성화하고, 뇌의 구조적 이상을 묘사하기 위한 독립적인 복셀 기반 형태 측정 기능으로 활용되어 왔습니다. 정신분열증, 간질의 백질(WM) 및 인지 효능 측정.\n",
    "------"
   ]
  },
  {
   "cell_type": "code",
   "execution_count": 8,
   "metadata": {
    "vscode": {
     "languageId": "r"
    }
   },
   "outputs": [
    {
     "data": {
      "text/plain": [
       "  Subject.ID           MRI.ID             Group               Visit      \n",
       " Length:373         Length:373         Length:373         Min.   :1.000  \n",
       " Class :character   Class :character   Class :character   1st Qu.:1.000  \n",
       " Mode  :character   Mode  :character   Mode  :character   Median :2.000  \n",
       "                                                          Mean   :1.882  \n",
       "                                                          3rd Qu.:2.000  \n",
       "                                                          Max.   :5.000  \n",
       "                                                                         \n",
       "    MR.Delay          M.F                Hand                Age       \n",
       " Min.   :   0.0   Length:373         Length:373         Min.   :60.00  \n",
       " 1st Qu.:   0.0   Class :character   Class :character   1st Qu.:71.00  \n",
       " Median : 552.0   Mode  :character   Mode  :character   Median :77.00  \n",
       " Mean   : 595.1                                         Mean   :77.01  \n",
       " 3rd Qu.: 873.0                                         3rd Qu.:82.00  \n",
       " Max.   :2639.0                                         Max.   :98.00  \n",
       "                                                                       \n",
       "      EDUC           SES            MMSE            CDR              eTIV     \n",
       " Min.   : 6.0   Min.   :1.00   Min.   : 4.00   Min.   :0.0000   Min.   :1106  \n",
       " 1st Qu.:12.0   1st Qu.:2.00   1st Qu.:27.00   1st Qu.:0.0000   1st Qu.:1357  \n",
       " Median :15.0   Median :2.00   Median :29.00   Median :0.0000   Median :1470  \n",
       " Mean   :14.6   Mean   :2.46   Mean   :27.34   Mean   :0.2909   Mean   :1488  \n",
       " 3rd Qu.:16.0   3rd Qu.:3.00   3rd Qu.:30.00   3rd Qu.:0.5000   3rd Qu.:1597  \n",
       " Max.   :23.0   Max.   :5.00   Max.   :30.00   Max.   :2.0000   Max.   :2004  \n",
       "                NA's   :19     NA's   :2                                      \n",
       "      nWBV             ASF       \n",
       " Min.   :0.6440   Min.   :0.876  \n",
       " 1st Qu.:0.7000   1st Qu.:1.099  \n",
       " Median :0.7290   Median :1.194  \n",
       " Mean   :0.7296   Mean   :1.195  \n",
       " 3rd Qu.:0.7560   3rd Qu.:1.293  \n",
       " Max.   :0.8370   Max.   :1.587  \n",
       "                                 "
      ]
     },
     "metadata": {},
     "output_type": "display_data"
    }
   ],
   "source": [
    "summary(dementia)"
   ]
  },
  {
   "cell_type": "code",
   "execution_count": 9,
   "metadata": {
    "vscode": {
     "languageId": "r"
    }
   },
   "outputs": [
    {
     "data": {
      "text/html": [
       "<style>\n",
       ".dl-inline {width: auto; margin:0; padding: 0}\n",
       ".dl-inline>dt, .dl-inline>dd {float: none; width: auto; display: inline-block}\n",
       ".dl-inline>dt::after {content: \":\\0020\"; padding-right: .5ex}\n",
       ".dl-inline>dt:not(:first-of-type) {padding-left: .5ex}\n",
       "</style><dl class=dl-inline><dt>Subject.ID</dt><dd>0</dd><dt>MRI.ID</dt><dd>0</dd><dt>Group</dt><dd>0</dd><dt>Visit</dt><dd>0</dd><dt>MR.Delay</dt><dd>0</dd><dt>M.F</dt><dd>0</dd><dt>Hand</dt><dd>0</dd><dt>Age</dt><dd>0</dd><dt>EDUC</dt><dd>0</dd><dt>SES</dt><dd>19</dd><dt>MMSE</dt><dd>2</dd><dt>CDR</dt><dd>0</dd><dt>eTIV</dt><dd>0</dd><dt>nWBV</dt><dd>0</dd><dt>ASF</dt><dd>0</dd></dl>\n"
      ],
      "text/latex": [
       "\\begin{description*}\n",
       "\\item[Subject.ID] 0\n",
       "\\item[MRI.ID] 0\n",
       "\\item[Group] 0\n",
       "\\item[Visit] 0\n",
       "\\item[MR.Delay] 0\n",
       "\\item[M.F] 0\n",
       "\\item[Hand] 0\n",
       "\\item[Age] 0\n",
       "\\item[EDUC] 0\n",
       "\\item[SES] 19\n",
       "\\item[MMSE] 2\n",
       "\\item[CDR] 0\n",
       "\\item[eTIV] 0\n",
       "\\item[nWBV] 0\n",
       "\\item[ASF] 0\n",
       "\\end{description*}\n"
      ],
      "text/markdown": [
       "Subject.ID\n",
       ":   0MRI.ID\n",
       ":   0Group\n",
       ":   0Visit\n",
       ":   0MR.Delay\n",
       ":   0M.F\n",
       ":   0Hand\n",
       ":   0Age\n",
       ":   0EDUC\n",
       ":   0SES\n",
       ":   19MMSE\n",
       ":   2CDR\n",
       ":   0eTIV\n",
       ":   0nWBV\n",
       ":   0ASF\n",
       ":   0\n",
       "\n"
      ],
      "text/plain": [
       "Subject.ID     MRI.ID      Group      Visit   MR.Delay        M.F       Hand \n",
       "         0          0          0          0          0          0          0 \n",
       "       Age       EDUC        SES       MMSE        CDR       eTIV       nWBV \n",
       "         0          0         19          2          0          0          0 \n",
       "       ASF \n",
       "         0 "
      ]
     },
     "metadata": {},
     "output_type": "display_data"
    }
   ],
   "source": [
    "# 컬럼별 NA 확인\n",
    "colSums(is.na(dementia))"
   ]
  },
  {
   "cell_type": "code",
   "execution_count": 10,
   "metadata": {
    "vscode": {
     "languageId": "r"
    }
   },
   "outputs": [
    {
     "name": "stdout",
     "output_type": "stream",
     "text": [
      "[1] 0.05093834\n",
      "[1] 0.00536193\n"
     ]
    }
   ],
   "source": [
    "# NA != 0인 컬럼의 분석 가능 여부 확인\n",
    "print(19 / nrow(dementia))\n",
    "print(2 / nrow(dementia))"
   ]
  },
  {
   "cell_type": "code",
   "execution_count": 11,
   "metadata": {
    "vscode": {
     "languageId": "r"
    }
   },
   "outputs": [
    {
     "data": {
      "text/plain": [
       "           \n",
       "            Converted Demented Nondemented\n",
       "  OAS2_0001         0        0           2\n",
       "  OAS2_0002         0        3           0\n",
       "  OAS2_0004         0        0           2\n",
       "  OAS2_0005         0        0           3\n",
       "  OAS2_0007         0        3           0\n",
       "  OAS2_0008         0        0           2\n",
       "  OAS2_0009         0        2           0\n",
       "  OAS2_0010         0        2           0\n",
       "  OAS2_0012         0        0           3\n",
       "  OAS2_0013         0        0           3\n",
       "  OAS2_0014         0        2           0\n",
       "  OAS2_0016         0        2           0\n",
       "  OAS2_0017         0        0           4\n",
       "  OAS2_0018         3        0           0\n",
       "  OAS2_0020         3        0           0\n",
       "  OAS2_0021         0        2           0\n",
       "  OAS2_0022         0        0           2\n",
       "  OAS2_0023         0        2           0\n",
       "  OAS2_0026         0        2           0\n",
       "  OAS2_0027         0        0           4\n",
       "  OAS2_0028         0        2           0\n",
       "  OAS2_0029         0        0           2\n",
       "  OAS2_0030         0        0           2\n",
       "  OAS2_0031         3        0           0\n",
       "  OAS2_0032         0        2           0\n",
       "  OAS2_0034         0        0           4\n",
       "  OAS2_0035         0        0           2\n",
       "  OAS2_0036         0        0           4\n",
       "  OAS2_0037         0        4           0\n",
       "  OAS2_0039         0        2           0\n",
       "  OAS2_0040         0        3           0\n",
       "  OAS2_0041         3        0           0\n",
       "  OAS2_0042         0        0           2\n",
       "  OAS2_0043         0        2           0\n",
       "  OAS2_0044         0        3           0\n",
       "  OAS2_0045         0        0           2\n",
       "  OAS2_0046         0        2           0\n",
       "  OAS2_0047         0        0           2\n",
       "  OAS2_0048         0        5           0\n",
       "  OAS2_0049         0        0           3\n",
       "  OAS2_0050         0        2           0\n",
       "  OAS2_0051         0        0           3\n",
       "  OAS2_0052         0        0           2\n",
       "  OAS2_0053         0        0           2\n",
       "  OAS2_0054         2        0           0\n",
       "  OAS2_0055         0        0           2\n",
       "  OAS2_0056         0        0           2\n",
       "  OAS2_0057         0        0           3\n",
       "  OAS2_0058         0        3           0\n",
       "  OAS2_0060         0        2           0\n",
       "  OAS2_0061         0        0           3\n",
       "  OAS2_0062         0        0           3\n",
       "  OAS2_0063         0        2           0\n",
       "  OAS2_0064         0        3           0\n",
       "  OAS2_0066         0        2           0\n",
       "  OAS2_0067         0        0           4\n",
       "  OAS2_0068         0        0           2\n",
       "  OAS2_0069         0        0           2\n",
       "  OAS2_0070         0        0           5\n",
       "  OAS2_0071         0        2           0\n",
       "  OAS2_0073         0        0           5\n",
       "  OAS2_0075         0        2           0\n",
       "  OAS2_0076         0        0           3\n",
       "  OAS2_0077         0        0           2\n",
       "  OAS2_0078         0        0           3\n",
       "  OAS2_0079         0        3           0\n",
       "  OAS2_0080         0        3           0\n",
       "  OAS2_0081         0        2           0\n",
       "  OAS2_0085         0        0           2\n",
       "  OAS2_0086         0        0           2\n",
       "  OAS2_0087         0        2           0\n",
       "  OAS2_0088         0        2           0\n",
       "  OAS2_0089         0        2           0\n",
       "  OAS2_0090         0        0           3\n",
       "  OAS2_0091         0        0           2\n",
       "  OAS2_0092         2        0           0\n",
       "  OAS2_0094         0        0           2\n",
       "  OAS2_0095         0        0           3\n",
       "  OAS2_0096         0        0           2\n",
       "  OAS2_0097         0        0           2\n",
       "  OAS2_0098         0        2           0\n",
       "  OAS2_0099         0        2           0\n",
       "  OAS2_0100         0        0           3\n",
       "  OAS2_0101         0        0           3\n",
       "  OAS2_0102         0        3           0\n",
       "  OAS2_0103         3        0           0\n",
       "  OAS2_0104         0        2           0\n",
       "  OAS2_0105         0        0           2\n",
       "  OAS2_0106         0        2           0\n",
       "  OAS2_0108         0        2           0\n",
       "  OAS2_0109         0        0           2\n",
       "  OAS2_0111         0        2           0\n",
       "  OAS2_0112         0        2           0\n",
       "  OAS2_0113         0        2           0\n",
       "  OAS2_0114         0        2           0\n",
       "  OAS2_0116         0        2           0\n",
       "  OAS2_0117         0        0           4\n",
       "  OAS2_0118         2        0           0\n",
       "  OAS2_0119         0        0           3\n",
       "  OAS2_0120         0        2           0\n",
       "  OAS2_0121         0        0           2\n",
       "  OAS2_0122         0        0           2\n",
       "  OAS2_0124         0        2           0\n",
       "  OAS2_0126         0        0           3\n",
       "  OAS2_0127         5        0           0\n",
       "  OAS2_0128         0        0           2\n",
       "  OAS2_0129         0        0           3\n",
       "  OAS2_0131         2        0           0\n",
       "  OAS2_0133         2        0           0\n",
       "  OAS2_0134         0        2           0\n",
       "  OAS2_0135         0        0           2\n",
       "  OAS2_0137         0        2           0\n",
       "  OAS2_0138         0        0           2\n",
       "  OAS2_0139         0        2           0\n",
       "  OAS2_0140         0        3           0\n",
       "  OAS2_0141         0        0           2\n",
       "  OAS2_0142         0        0           2\n",
       "  OAS2_0143         0        0           3\n",
       "  OAS2_0144         2        0           0\n",
       "  OAS2_0145         2        0           0\n",
       "  OAS2_0146         0        2           0\n",
       "  OAS2_0147         0        0           4\n",
       "  OAS2_0149         0        0           2\n",
       "  OAS2_0150         0        2           0\n",
       "  OAS2_0152         0        0           3\n",
       "  OAS2_0154         0        0           2\n",
       "  OAS2_0156         0        0           2\n",
       "  OAS2_0157         0        2           0\n",
       "  OAS2_0158         0        0           2\n",
       "  OAS2_0159         0        2           0\n",
       "  OAS2_0160         0        2           0\n",
       "  OAS2_0161         0        0           3\n",
       "  OAS2_0162         0        2           0\n",
       "  OAS2_0164         0        2           0\n",
       "  OAS2_0165         0        2           0\n",
       "  OAS2_0169         0        0           2\n",
       "  OAS2_0171         0        0           3\n",
       "  OAS2_0172         0        2           0\n",
       "  OAS2_0174         0        0           3\n",
       "  OAS2_0175         0        3           0\n",
       "  OAS2_0176         3        0           0\n",
       "  OAS2_0177         0        0           2\n",
       "  OAS2_0178         0        0           3\n",
       "  OAS2_0179         0        2           0\n",
       "  OAS2_0181         0        3           0\n",
       "  OAS2_0182         0        2           0\n",
       "  OAS2_0183         0        0           4\n",
       "  OAS2_0184         0        2           0\n",
       "  OAS2_0185         0        3           0\n",
       "  OAS2_0186         0        0           3"
      ]
     },
     "metadata": {},
     "output_type": "display_data"
    }
   ],
   "source": [
    "table(dementia$Subject.ID, dementia$Group)"
   ]
  },
  {
   "cell_type": "code",
   "execution_count": 12,
   "metadata": {
    "vscode": {
     "languageId": "r"
    }
   },
   "outputs": [
    {
     "name": "stdout",
     "output_type": "stream",
     "text": [
      "전체 데이터 개수 :  373\n",
      "  R \n",
      "373 \n"
     ]
    }
   ],
   "source": [
    "cat(\"전체 데이터 개수 : \", nrow(dementia))\n",
    "print(table(dementia$Hand))"
   ]
  },
  {
   "cell_type": "markdown",
   "metadata": {},
   "source": [
    "Hand(주 손잡이) 컬럼이 모두 오른손잡이 이므로 제외 처리.\n"
   ]
  },
  {
   "cell_type": "code",
   "execution_count": 13,
   "metadata": {
    "vscode": {
     "languageId": "r"
    }
   },
   "outputs": [
    {
     "data": {
      "text/plain": [
       "\n",
       "  Converted    Demented Nondemented \n",
       "         37         146         190 "
      ]
     },
     "metadata": {},
     "output_type": "display_data"
    }
   ],
   "source": [
    "table(dementia$Group)"
   ]
  },
  {
   "cell_type": "code",
   "execution_count": 14,
   "metadata": {
    "vscode": {
     "languageId": "r"
    }
   },
   "outputs": [
    {
     "data": {
      "text/plain": [
       "\n",
       "  0 0.5   1   2 \n",
       "206 123  41   3 "
      ]
     },
     "metadata": {},
     "output_type": "display_data"
    }
   ],
   "source": [
    "table(dementia$CDR)"
   ]
  },
  {
   "cell_type": "code",
   "execution_count": 15,
   "metadata": {
    "vscode": {
     "languageId": "r"
    }
   },
   "outputs": [
    {
     "data": {
      "text/plain": [
       "             \n",
       "               4  7 15 16 17 18 19 20 21 22 23 24 25 26 27 28 29 30\n",
       "  Converted    0  0  0  0  0  0  0  0  0  0  0  1  1  2  3  6  9 15\n",
       "  Demented     1  1  2  3  5  2  3  7 11  7 11  3 11 17 20 15 14 11\n",
       "  Nondemented  0  0  0  0  0  0  0  0  0  0  0  0  0  1  9 24 68 88"
      ]
     },
     "metadata": {},
     "output_type": "display_data"
    }
   ],
   "source": [
    "table(dementia$Group, dementia$MMSE)"
   ]
  },
  {
   "cell_type": "code",
   "execution_count": 16,
   "metadata": {
    "vscode": {
     "languageId": "r"
    }
   },
   "outputs": [
    {
     "data": {
      "text/plain": [
       "     \n",
       "       4  7 15 16 17 18 19 20 21 22 23 24 25 26 27 28 29 30\n",
       "  0    0  0  0  0  0  0  0  0  0  0  0  0  1  1  9 26 72 97\n",
       "  0.5  0  0  0  0  2  1  0  4  4  4  8  4  9 18 17 18 18 16\n",
       "  1    1  1  1  3  3  1  3  3  6  3  3  0  1  1  6  1  1  1\n",
       "  2    0  0  1  0  0  0  0  0  1  0  0  0  1  0  0  0  0  0"
      ]
     },
     "metadata": {},
     "output_type": "display_data"
    }
   ],
   "source": [
    "table(dementia$CDR, dementia$MMSE)"
   ]
  },
  {
   "cell_type": "code",
   "execution_count": 17,
   "metadata": {
    "vscode": {
     "languageId": "r"
    }
   },
   "outputs": [
    {
     "data": {
      "text/plain": [
       "\n",
       "  4   7  15  16  17  18  19  20  21  22  23  24  25  26  27  28  29  30 \n",
       "  1   1   2   3   5   2   3   7  11   7  11   4  12  20  32  45  91 114 "
      ]
     },
     "metadata": {},
     "output_type": "display_data"
    }
   ],
   "source": [
    "table(dementia$MMSE)"
   ]
  },
  {
   "cell_type": "markdown",
   "metadata": {},
   "source": [
    "환자들 그룹별로 묶어서 컬럼 비교 해보고 추세선 그려보고 산포도  등등등...\n",
    "분석해보고 ML 가능할지 봐야한다."
   ]
  },
  {
   "cell_type": "code",
   "execution_count": 18,
   "metadata": {
    "vscode": {
     "languageId": "r"
    }
   },
   "outputs": [
    {
     "data": {
      "text/html": [
       "<table class=\"dataframe\">\n",
       "<caption>A data.frame: 37 x 15</caption>\n",
       "<thead>\n",
       "\t<tr><th></th><th scope=col>Subject.ID</th><th scope=col>MRI.ID</th><th scope=col>Group</th><th scope=col>Visit</th><th scope=col>MR.Delay</th><th scope=col>M.F</th><th scope=col>Hand</th><th scope=col>Age</th><th scope=col>EDUC</th><th scope=col>SES</th><th scope=col>MMSE</th><th scope=col>CDR</th><th scope=col>eTIV</th><th scope=col>nWBV</th><th scope=col>ASF</th></tr>\n",
       "\t<tr><th></th><th scope=col>&lt;chr&gt;</th><th scope=col>&lt;chr&gt;</th><th scope=col>&lt;chr&gt;</th><th scope=col>&lt;int&gt;</th><th scope=col>&lt;int&gt;</th><th scope=col>&lt;chr&gt;</th><th scope=col>&lt;chr&gt;</th><th scope=col>&lt;int&gt;</th><th scope=col>&lt;int&gt;</th><th scope=col>&lt;int&gt;</th><th scope=col>&lt;int&gt;</th><th scope=col>&lt;dbl&gt;</th><th scope=col>&lt;int&gt;</th><th scope=col>&lt;dbl&gt;</th><th scope=col>&lt;dbl&gt;</th></tr>\n",
       "</thead>\n",
       "<tbody>\n",
       "\t<tr><th scope=row>34</th><td>OAS2_0018</td><td>OAS2_0018_MR1</td><td>Converted</td><td>1</td><td>   0</td><td>F</td><td>R</td><td>87</td><td>14</td><td>1</td><td>30</td><td>0.0</td><td>1406</td><td>0.715</td><td>1.248</td></tr>\n",
       "\t<tr><th scope=row>35</th><td>OAS2_0018</td><td>OAS2_0018_MR3</td><td>Converted</td><td>3</td><td> 489</td><td>F</td><td>R</td><td>88</td><td>14</td><td>1</td><td>29</td><td>0.0</td><td>1398</td><td>0.713</td><td>1.255</td></tr>\n",
       "\t<tr><th scope=row>36</th><td>OAS2_0018</td><td>OAS2_0018_MR4</td><td>Converted</td><td>4</td><td>1933</td><td>F</td><td>R</td><td>92</td><td>14</td><td>1</td><td>27</td><td>0.5</td><td>1423</td><td>0.696</td><td>1.234</td></tr>\n",
       "\t<tr><th scope=row>37</th><td>OAS2_0020</td><td>OAS2_0020_MR1</td><td>Converted</td><td>1</td><td>   0</td><td>M</td><td>R</td><td>80</td><td>20</td><td>1</td><td>29</td><td>0.0</td><td>1587</td><td>0.693</td><td>1.106</td></tr>\n",
       "\t<tr><th scope=row>38</th><td>OAS2_0020</td><td>OAS2_0020_MR2</td><td>Converted</td><td>2</td><td> 756</td><td>M</td><td>R</td><td>82</td><td>20</td><td>1</td><td>28</td><td>0.5</td><td>1606</td><td>0.677</td><td>1.093</td></tr>\n",
       "\t<tr><th scope=row>39</th><td>OAS2_0020</td><td>OAS2_0020_MR3</td><td>Converted</td><td>3</td><td>1563</td><td>M</td><td>R</td><td>84</td><td>20</td><td>1</td><td>26</td><td>0.5</td><td>1597</td><td>0.666</td><td>1.099</td></tr>\n",
       "\t<tr><th scope=row>58</th><td>OAS2_0031</td><td>OAS2_0031_MR1</td><td>Converted</td><td>1</td><td>   0</td><td>F</td><td>R</td><td>86</td><td>12</td><td>3</td><td>30</td><td>0.0</td><td>1430</td><td>0.718</td><td>1.227</td></tr>\n",
       "\t<tr><th scope=row>59</th><td>OAS2_0031</td><td>OAS2_0031_MR2</td><td>Converted</td><td>2</td><td> 446</td><td>F</td><td>R</td><td>88</td><td>12</td><td>3</td><td>30</td><td>0.0</td><td>1445</td><td>0.719</td><td>1.215</td></tr>\n",
       "\t<tr><th scope=row>60</th><td>OAS2_0031</td><td>OAS2_0031_MR3</td><td>Converted</td><td>3</td><td>1588</td><td>F</td><td>R</td><td>91</td><td>12</td><td>3</td><td>28</td><td>0.5</td><td>1463</td><td>0.696</td><td>1.199</td></tr>\n",
       "\t<tr><th scope=row>82</th><td>OAS2_0041</td><td>OAS2_0041_MR1</td><td>Converted</td><td>1</td><td>   0</td><td>F</td><td>R</td><td>71</td><td>16</td><td>1</td><td>27</td><td>0.0</td><td>1289</td><td>0.771</td><td>1.362</td></tr>\n",
       "\t<tr><th scope=row>83</th><td>OAS2_0041</td><td>OAS2_0041_MR2</td><td>Converted</td><td>2</td><td> 756</td><td>F</td><td>R</td><td>73</td><td>16</td><td>1</td><td>28</td><td>0.0</td><td>1295</td><td>0.768</td><td>1.356</td></tr>\n",
       "\t<tr><th scope=row>84</th><td>OAS2_0041</td><td>OAS2_0041_MR3</td><td>Converted</td><td>3</td><td>1331</td><td>F</td><td>R</td><td>75</td><td>16</td><td>1</td><td>28</td><td>0.5</td><td>1314</td><td>0.760</td><td>1.335</td></tr>\n",
       "\t<tr><th scope=row>115</th><td>OAS2_0054</td><td>OAS2_0054_MR1</td><td>Converted</td><td>1</td><td>   0</td><td>F</td><td>R</td><td>85</td><td>18</td><td>1</td><td>29</td><td>0.0</td><td>1264</td><td>0.701</td><td>1.388</td></tr>\n",
       "\t<tr><th scope=row>116</th><td>OAS2_0054</td><td>OAS2_0054_MR2</td><td>Converted</td><td>2</td><td> 846</td><td>F</td><td>R</td><td>87</td><td>18</td><td>1</td><td>24</td><td>0.5</td><td>1275</td><td>0.683</td><td>1.376</td></tr>\n",
       "\t<tr><th scope=row>195</th><td>OAS2_0092</td><td>OAS2_0092_MR1</td><td>Converted</td><td>1</td><td>   0</td><td>F</td><td>R</td><td>83</td><td>12</td><td>2</td><td>28</td><td>0.0</td><td>1383</td><td>0.748</td><td>1.269</td></tr>\n",
       "\t<tr><th scope=row>196</th><td>OAS2_0092</td><td>OAS2_0092_MR2</td><td>Converted</td><td>2</td><td> 706</td><td>F</td><td>R</td><td>84</td><td>12</td><td>2</td><td>27</td><td>0.5</td><td>1390</td><td>0.728</td><td>1.263</td></tr>\n",
       "\t<tr><th scope=row>219</th><td>OAS2_0103</td><td>OAS2_0103_MR1</td><td>Converted</td><td>1</td><td>   0</td><td>F</td><td>R</td><td>69</td><td>16</td><td>1</td><td>30</td><td>0.0</td><td>1404</td><td>0.750</td><td>1.250</td></tr>\n",
       "\t<tr><th scope=row>220</th><td>OAS2_0103</td><td>OAS2_0103_MR2</td><td>Converted</td><td>2</td><td>1554</td><td>F</td><td>R</td><td>74</td><td>16</td><td>1</td><td>30</td><td>0.5</td><td>1423</td><td>0.722</td><td>1.233</td></tr>\n",
       "\t<tr><th scope=row>221</th><td>OAS2_0103</td><td>OAS2_0103_MR3</td><td>Converted</td><td>3</td><td>2002</td><td>F</td><td>R</td><td>75</td><td>16</td><td>1</td><td>30</td><td>0.5</td><td>1419</td><td>0.731</td><td>1.236</td></tr>\n",
       "\t<tr><th scope=row>246</th><td>OAS2_0118</td><td>OAS2_0118_MR1</td><td>Converted</td><td>1</td><td>   0</td><td>F</td><td>R</td><td>67</td><td>14</td><td>4</td><td>30</td><td>0.0</td><td>1508</td><td>0.794</td><td>1.164</td></tr>\n",
       "\t<tr><th scope=row>247</th><td>OAS2_0118</td><td>OAS2_0118_MR2</td><td>Converted</td><td>2</td><td>1422</td><td>F</td><td>R</td><td>71</td><td>14</td><td>4</td><td>26</td><td>0.5</td><td>1529</td><td>0.788</td><td>1.147</td></tr>\n",
       "\t<tr><th scope=row>262</th><td>OAS2_0127</td><td>OAS2_0127_MR1</td><td>Converted</td><td>1</td><td>   0</td><td>M</td><td>R</td><td>79</td><td>18</td><td>1</td><td>29</td><td>0.0</td><td>1644</td><td>0.729</td><td>1.067</td></tr>\n",
       "\t<tr><th scope=row>263</th><td>OAS2_0127</td><td>OAS2_0127_MR2</td><td>Converted</td><td>2</td><td> 851</td><td>M</td><td>R</td><td>81</td><td>18</td><td>1</td><td>29</td><td>0.5</td><td>1654</td><td>0.720</td><td>1.061</td></tr>\n",
       "\t<tr><th scope=row>264</th><td>OAS2_0127</td><td>OAS2_0127_MR3</td><td>Converted</td><td>3</td><td>1042</td><td>M</td><td>R</td><td>81</td><td>18</td><td>1</td><td>29</td><td>0.5</td><td>1647</td><td>0.717</td><td>1.066</td></tr>\n",
       "\t<tr><th scope=row>265</th><td>OAS2_0127</td><td>OAS2_0127_MR4</td><td>Converted</td><td>4</td><td>2153</td><td>M</td><td>R</td><td>84</td><td>18</td><td>1</td><td>29</td><td>0.5</td><td>1668</td><td>0.694</td><td>1.052</td></tr>\n",
       "\t<tr><th scope=row>266</th><td>OAS2_0127</td><td>OAS2_0127_MR5</td><td>Converted</td><td>5</td><td>2639</td><td>M</td><td>R</td><td>86</td><td>18</td><td>1</td><td>30</td><td>0.5</td><td>1670</td><td>0.669</td><td>1.051</td></tr>\n",
       "\t<tr><th scope=row>272</th><td>OAS2_0131</td><td>OAS2_0131_MR1</td><td>Converted</td><td>1</td><td>   0</td><td>F</td><td>R</td><td>65</td><td>12</td><td>2</td><td>30</td><td>0.5</td><td>1340</td><td>0.754</td><td>1.309</td></tr>\n",
       "\t<tr><th scope=row>273</th><td>OAS2_0131</td><td>OAS2_0131_MR2</td><td>Converted</td><td>2</td><td> 679</td><td>F</td><td>R</td><td>67</td><td>12</td><td>2</td><td>25</td><td>0.0</td><td>1331</td><td>0.761</td><td>1.318</td></tr>\n",
       "\t<tr><th scope=row>274</th><td>OAS2_0133</td><td>OAS2_0133_MR1</td><td>Converted</td><td>1</td><td>   0</td><td>F</td><td>R</td><td>78</td><td>12</td><td>3</td><td>29</td><td>0.0</td><td>1475</td><td>0.731</td><td>1.190</td></tr>\n",
       "\t<tr><th scope=row>275</th><td>OAS2_0133</td><td>OAS2_0133_MR3</td><td>Converted</td><td>3</td><td>1006</td><td>F</td><td>R</td><td>81</td><td>12</td><td>3</td><td>28</td><td>0.5</td><td>1495</td><td>0.687</td><td>1.174</td></tr>\n",
       "\t<tr><th scope=row>296</th><td>OAS2_0144</td><td>OAS2_0144_MR1</td><td>Converted</td><td>1</td><td>   0</td><td>M</td><td>R</td><td>77</td><td>16</td><td>1</td><td>30</td><td>0.0</td><td>1704</td><td>0.716</td><td>1.030</td></tr>\n",
       "\t<tr><th scope=row>297</th><td>OAS2_0144</td><td>OAS2_0144_MR2</td><td>Converted</td><td>2</td><td> 683</td><td>M</td><td>R</td><td>79</td><td>16</td><td>1</td><td>30</td><td>0.5</td><td>1722</td><td>0.708</td><td>1.019</td></tr>\n",
       "\t<tr><th scope=row>298</th><td>OAS2_0145</td><td>OAS2_0145_MR1</td><td>Converted</td><td>1</td><td>   0</td><td>F</td><td>R</td><td>68</td><td>16</td><td>3</td><td>30</td><td>0.0</td><td>1298</td><td>0.799</td><td>1.352</td></tr>\n",
       "\t<tr><th scope=row>299</th><td>OAS2_0145</td><td>OAS2_0145_MR2</td><td>Converted</td><td>2</td><td>1707</td><td>F</td><td>R</td><td>73</td><td>16</td><td>3</td><td>29</td><td>0.5</td><td>1287</td><td>0.771</td><td>1.364</td></tr>\n",
       "\t<tr><th scope=row>347</th><td>OAS2_0176</td><td>OAS2_0176_MR1</td><td>Converted</td><td>1</td><td>   0</td><td>M</td><td>R</td><td>84</td><td>16</td><td>2</td><td>30</td><td>0.0</td><td>1404</td><td>0.710</td><td>1.250</td></tr>\n",
       "\t<tr><th scope=row>348</th><td>OAS2_0176</td><td>OAS2_0176_MR2</td><td>Converted</td><td>2</td><td> 774</td><td>M</td><td>R</td><td>87</td><td>16</td><td>2</td><td>30</td><td>0.0</td><td>1398</td><td>0.696</td><td>1.255</td></tr>\n",
       "\t<tr><th scope=row>349</th><td>OAS2_0176</td><td>OAS2_0176_MR3</td><td>Converted</td><td>3</td><td>1631</td><td>M</td><td>R</td><td>89</td><td>16</td><td>2</td><td>30</td><td>0.5</td><td>1408</td><td>0.679</td><td>1.246</td></tr>\n",
       "</tbody>\n",
       "</table>\n"
      ],
      "text/latex": [
       "A data.frame: 37 x 15\n",
       "\\begin{tabular}{r|lllllllllllllll}\n",
       "  & Subject.ID & MRI.ID & Group & Visit & MR.Delay & M.F & Hand & Age & EDUC & SES & MMSE & CDR & eTIV & nWBV & ASF\\\\\n",
       "  & <chr> & <chr> & <chr> & <int> & <int> & <chr> & <chr> & <int> & <int> & <int> & <int> & <dbl> & <int> & <dbl> & <dbl>\\\\\n",
       "\\hline\n",
       "\t34 & OAS2\\_0018 & OAS2\\_0018\\_MR1 & Converted & 1 &    0 & F & R & 87 & 14 & 1 & 30 & 0.0 & 1406 & 0.715 & 1.248\\\\\n",
       "\t35 & OAS2\\_0018 & OAS2\\_0018\\_MR3 & Converted & 3 &  489 & F & R & 88 & 14 & 1 & 29 & 0.0 & 1398 & 0.713 & 1.255\\\\\n",
       "\t36 & OAS2\\_0018 & OAS2\\_0018\\_MR4 & Converted & 4 & 1933 & F & R & 92 & 14 & 1 & 27 & 0.5 & 1423 & 0.696 & 1.234\\\\\n",
       "\t37 & OAS2\\_0020 & OAS2\\_0020\\_MR1 & Converted & 1 &    0 & M & R & 80 & 20 & 1 & 29 & 0.0 & 1587 & 0.693 & 1.106\\\\\n",
       "\t38 & OAS2\\_0020 & OAS2\\_0020\\_MR2 & Converted & 2 &  756 & M & R & 82 & 20 & 1 & 28 & 0.5 & 1606 & 0.677 & 1.093\\\\\n",
       "\t39 & OAS2\\_0020 & OAS2\\_0020\\_MR3 & Converted & 3 & 1563 & M & R & 84 & 20 & 1 & 26 & 0.5 & 1597 & 0.666 & 1.099\\\\\n",
       "\t58 & OAS2\\_0031 & OAS2\\_0031\\_MR1 & Converted & 1 &    0 & F & R & 86 & 12 & 3 & 30 & 0.0 & 1430 & 0.718 & 1.227\\\\\n",
       "\t59 & OAS2\\_0031 & OAS2\\_0031\\_MR2 & Converted & 2 &  446 & F & R & 88 & 12 & 3 & 30 & 0.0 & 1445 & 0.719 & 1.215\\\\\n",
       "\t60 & OAS2\\_0031 & OAS2\\_0031\\_MR3 & Converted & 3 & 1588 & F & R & 91 & 12 & 3 & 28 & 0.5 & 1463 & 0.696 & 1.199\\\\\n",
       "\t82 & OAS2\\_0041 & OAS2\\_0041\\_MR1 & Converted & 1 &    0 & F & R & 71 & 16 & 1 & 27 & 0.0 & 1289 & 0.771 & 1.362\\\\\n",
       "\t83 & OAS2\\_0041 & OAS2\\_0041\\_MR2 & Converted & 2 &  756 & F & R & 73 & 16 & 1 & 28 & 0.0 & 1295 & 0.768 & 1.356\\\\\n",
       "\t84 & OAS2\\_0041 & OAS2\\_0041\\_MR3 & Converted & 3 & 1331 & F & R & 75 & 16 & 1 & 28 & 0.5 & 1314 & 0.760 & 1.335\\\\\n",
       "\t115 & OAS2\\_0054 & OAS2\\_0054\\_MR1 & Converted & 1 &    0 & F & R & 85 & 18 & 1 & 29 & 0.0 & 1264 & 0.701 & 1.388\\\\\n",
       "\t116 & OAS2\\_0054 & OAS2\\_0054\\_MR2 & Converted & 2 &  846 & F & R & 87 & 18 & 1 & 24 & 0.5 & 1275 & 0.683 & 1.376\\\\\n",
       "\t195 & OAS2\\_0092 & OAS2\\_0092\\_MR1 & Converted & 1 &    0 & F & R & 83 & 12 & 2 & 28 & 0.0 & 1383 & 0.748 & 1.269\\\\\n",
       "\t196 & OAS2\\_0092 & OAS2\\_0092\\_MR2 & Converted & 2 &  706 & F & R & 84 & 12 & 2 & 27 & 0.5 & 1390 & 0.728 & 1.263\\\\\n",
       "\t219 & OAS2\\_0103 & OAS2\\_0103\\_MR1 & Converted & 1 &    0 & F & R & 69 & 16 & 1 & 30 & 0.0 & 1404 & 0.750 & 1.250\\\\\n",
       "\t220 & OAS2\\_0103 & OAS2\\_0103\\_MR2 & Converted & 2 & 1554 & F & R & 74 & 16 & 1 & 30 & 0.5 & 1423 & 0.722 & 1.233\\\\\n",
       "\t221 & OAS2\\_0103 & OAS2\\_0103\\_MR3 & Converted & 3 & 2002 & F & R & 75 & 16 & 1 & 30 & 0.5 & 1419 & 0.731 & 1.236\\\\\n",
       "\t246 & OAS2\\_0118 & OAS2\\_0118\\_MR1 & Converted & 1 &    0 & F & R & 67 & 14 & 4 & 30 & 0.0 & 1508 & 0.794 & 1.164\\\\\n",
       "\t247 & OAS2\\_0118 & OAS2\\_0118\\_MR2 & Converted & 2 & 1422 & F & R & 71 & 14 & 4 & 26 & 0.5 & 1529 & 0.788 & 1.147\\\\\n",
       "\t262 & OAS2\\_0127 & OAS2\\_0127\\_MR1 & Converted & 1 &    0 & M & R & 79 & 18 & 1 & 29 & 0.0 & 1644 & 0.729 & 1.067\\\\\n",
       "\t263 & OAS2\\_0127 & OAS2\\_0127\\_MR2 & Converted & 2 &  851 & M & R & 81 & 18 & 1 & 29 & 0.5 & 1654 & 0.720 & 1.061\\\\\n",
       "\t264 & OAS2\\_0127 & OAS2\\_0127\\_MR3 & Converted & 3 & 1042 & M & R & 81 & 18 & 1 & 29 & 0.5 & 1647 & 0.717 & 1.066\\\\\n",
       "\t265 & OAS2\\_0127 & OAS2\\_0127\\_MR4 & Converted & 4 & 2153 & M & R & 84 & 18 & 1 & 29 & 0.5 & 1668 & 0.694 & 1.052\\\\\n",
       "\t266 & OAS2\\_0127 & OAS2\\_0127\\_MR5 & Converted & 5 & 2639 & M & R & 86 & 18 & 1 & 30 & 0.5 & 1670 & 0.669 & 1.051\\\\\n",
       "\t272 & OAS2\\_0131 & OAS2\\_0131\\_MR1 & Converted & 1 &    0 & F & R & 65 & 12 & 2 & 30 & 0.5 & 1340 & 0.754 & 1.309\\\\\n",
       "\t273 & OAS2\\_0131 & OAS2\\_0131\\_MR2 & Converted & 2 &  679 & F & R & 67 & 12 & 2 & 25 & 0.0 & 1331 & 0.761 & 1.318\\\\\n",
       "\t274 & OAS2\\_0133 & OAS2\\_0133\\_MR1 & Converted & 1 &    0 & F & R & 78 & 12 & 3 & 29 & 0.0 & 1475 & 0.731 & 1.190\\\\\n",
       "\t275 & OAS2\\_0133 & OAS2\\_0133\\_MR3 & Converted & 3 & 1006 & F & R & 81 & 12 & 3 & 28 & 0.5 & 1495 & 0.687 & 1.174\\\\\n",
       "\t296 & OAS2\\_0144 & OAS2\\_0144\\_MR1 & Converted & 1 &    0 & M & R & 77 & 16 & 1 & 30 & 0.0 & 1704 & 0.716 & 1.030\\\\\n",
       "\t297 & OAS2\\_0144 & OAS2\\_0144\\_MR2 & Converted & 2 &  683 & M & R & 79 & 16 & 1 & 30 & 0.5 & 1722 & 0.708 & 1.019\\\\\n",
       "\t298 & OAS2\\_0145 & OAS2\\_0145\\_MR1 & Converted & 1 &    0 & F & R & 68 & 16 & 3 & 30 & 0.0 & 1298 & 0.799 & 1.352\\\\\n",
       "\t299 & OAS2\\_0145 & OAS2\\_0145\\_MR2 & Converted & 2 & 1707 & F & R & 73 & 16 & 3 & 29 & 0.5 & 1287 & 0.771 & 1.364\\\\\n",
       "\t347 & OAS2\\_0176 & OAS2\\_0176\\_MR1 & Converted & 1 &    0 & M & R & 84 & 16 & 2 & 30 & 0.0 & 1404 & 0.710 & 1.250\\\\\n",
       "\t348 & OAS2\\_0176 & OAS2\\_0176\\_MR2 & Converted & 2 &  774 & M & R & 87 & 16 & 2 & 30 & 0.0 & 1398 & 0.696 & 1.255\\\\\n",
       "\t349 & OAS2\\_0176 & OAS2\\_0176\\_MR3 & Converted & 3 & 1631 & M & R & 89 & 16 & 2 & 30 & 0.5 & 1408 & 0.679 & 1.246\\\\\n",
       "\\end{tabular}\n"
      ],
      "text/markdown": [
       "\n",
       "A data.frame: 37 x 15\n",
       "\n",
       "| <!--/--> | Subject.ID &lt;chr&gt; | MRI.ID &lt;chr&gt; | Group &lt;chr&gt; | Visit &lt;int&gt; | MR.Delay &lt;int&gt; | M.F &lt;chr&gt; | Hand &lt;chr&gt; | Age &lt;int&gt; | EDUC &lt;int&gt; | SES &lt;int&gt; | MMSE &lt;int&gt; | CDR &lt;dbl&gt; | eTIV &lt;int&gt; | nWBV &lt;dbl&gt; | ASF &lt;dbl&gt; |\n",
       "|---|---|---|---|---|---|---|---|---|---|---|---|---|---|---|---|\n",
       "| 34 | OAS2_0018 | OAS2_0018_MR1 | Converted | 1 |    0 | F | R | 87 | 14 | 1 | 30 | 0.0 | 1406 | 0.715 | 1.248 |\n",
       "| 35 | OAS2_0018 | OAS2_0018_MR3 | Converted | 3 |  489 | F | R | 88 | 14 | 1 | 29 | 0.0 | 1398 | 0.713 | 1.255 |\n",
       "| 36 | OAS2_0018 | OAS2_0018_MR4 | Converted | 4 | 1933 | F | R | 92 | 14 | 1 | 27 | 0.5 | 1423 | 0.696 | 1.234 |\n",
       "| 37 | OAS2_0020 | OAS2_0020_MR1 | Converted | 1 |    0 | M | R | 80 | 20 | 1 | 29 | 0.0 | 1587 | 0.693 | 1.106 |\n",
       "| 38 | OAS2_0020 | OAS2_0020_MR2 | Converted | 2 |  756 | M | R | 82 | 20 | 1 | 28 | 0.5 | 1606 | 0.677 | 1.093 |\n",
       "| 39 | OAS2_0020 | OAS2_0020_MR3 | Converted | 3 | 1563 | M | R | 84 | 20 | 1 | 26 | 0.5 | 1597 | 0.666 | 1.099 |\n",
       "| 58 | OAS2_0031 | OAS2_0031_MR1 | Converted | 1 |    0 | F | R | 86 | 12 | 3 | 30 | 0.0 | 1430 | 0.718 | 1.227 |\n",
       "| 59 | OAS2_0031 | OAS2_0031_MR2 | Converted | 2 |  446 | F | R | 88 | 12 | 3 | 30 | 0.0 | 1445 | 0.719 | 1.215 |\n",
       "| 60 | OAS2_0031 | OAS2_0031_MR3 | Converted | 3 | 1588 | F | R | 91 | 12 | 3 | 28 | 0.5 | 1463 | 0.696 | 1.199 |\n",
       "| 82 | OAS2_0041 | OAS2_0041_MR1 | Converted | 1 |    0 | F | R | 71 | 16 | 1 | 27 | 0.0 | 1289 | 0.771 | 1.362 |\n",
       "| 83 | OAS2_0041 | OAS2_0041_MR2 | Converted | 2 |  756 | F | R | 73 | 16 | 1 | 28 | 0.0 | 1295 | 0.768 | 1.356 |\n",
       "| 84 | OAS2_0041 | OAS2_0041_MR3 | Converted | 3 | 1331 | F | R | 75 | 16 | 1 | 28 | 0.5 | 1314 | 0.760 | 1.335 |\n",
       "| 115 | OAS2_0054 | OAS2_0054_MR1 | Converted | 1 |    0 | F | R | 85 | 18 | 1 | 29 | 0.0 | 1264 | 0.701 | 1.388 |\n",
       "| 116 | OAS2_0054 | OAS2_0054_MR2 | Converted | 2 |  846 | F | R | 87 | 18 | 1 | 24 | 0.5 | 1275 | 0.683 | 1.376 |\n",
       "| 195 | OAS2_0092 | OAS2_0092_MR1 | Converted | 1 |    0 | F | R | 83 | 12 | 2 | 28 | 0.0 | 1383 | 0.748 | 1.269 |\n",
       "| 196 | OAS2_0092 | OAS2_0092_MR2 | Converted | 2 |  706 | F | R | 84 | 12 | 2 | 27 | 0.5 | 1390 | 0.728 | 1.263 |\n",
       "| 219 | OAS2_0103 | OAS2_0103_MR1 | Converted | 1 |    0 | F | R | 69 | 16 | 1 | 30 | 0.0 | 1404 | 0.750 | 1.250 |\n",
       "| 220 | OAS2_0103 | OAS2_0103_MR2 | Converted | 2 | 1554 | F | R | 74 | 16 | 1 | 30 | 0.5 | 1423 | 0.722 | 1.233 |\n",
       "| 221 | OAS2_0103 | OAS2_0103_MR3 | Converted | 3 | 2002 | F | R | 75 | 16 | 1 | 30 | 0.5 | 1419 | 0.731 | 1.236 |\n",
       "| 246 | OAS2_0118 | OAS2_0118_MR1 | Converted | 1 |    0 | F | R | 67 | 14 | 4 | 30 | 0.0 | 1508 | 0.794 | 1.164 |\n",
       "| 247 | OAS2_0118 | OAS2_0118_MR2 | Converted | 2 | 1422 | F | R | 71 | 14 | 4 | 26 | 0.5 | 1529 | 0.788 | 1.147 |\n",
       "| 262 | OAS2_0127 | OAS2_0127_MR1 | Converted | 1 |    0 | M | R | 79 | 18 | 1 | 29 | 0.0 | 1644 | 0.729 | 1.067 |\n",
       "| 263 | OAS2_0127 | OAS2_0127_MR2 | Converted | 2 |  851 | M | R | 81 | 18 | 1 | 29 | 0.5 | 1654 | 0.720 | 1.061 |\n",
       "| 264 | OAS2_0127 | OAS2_0127_MR3 | Converted | 3 | 1042 | M | R | 81 | 18 | 1 | 29 | 0.5 | 1647 | 0.717 | 1.066 |\n",
       "| 265 | OAS2_0127 | OAS2_0127_MR4 | Converted | 4 | 2153 | M | R | 84 | 18 | 1 | 29 | 0.5 | 1668 | 0.694 | 1.052 |\n",
       "| 266 | OAS2_0127 | OAS2_0127_MR5 | Converted | 5 | 2639 | M | R | 86 | 18 | 1 | 30 | 0.5 | 1670 | 0.669 | 1.051 |\n",
       "| 272 | OAS2_0131 | OAS2_0131_MR1 | Converted | 1 |    0 | F | R | 65 | 12 | 2 | 30 | 0.5 | 1340 | 0.754 | 1.309 |\n",
       "| 273 | OAS2_0131 | OAS2_0131_MR2 | Converted | 2 |  679 | F | R | 67 | 12 | 2 | 25 | 0.0 | 1331 | 0.761 | 1.318 |\n",
       "| 274 | OAS2_0133 | OAS2_0133_MR1 | Converted | 1 |    0 | F | R | 78 | 12 | 3 | 29 | 0.0 | 1475 | 0.731 | 1.190 |\n",
       "| 275 | OAS2_0133 | OAS2_0133_MR3 | Converted | 3 | 1006 | F | R | 81 | 12 | 3 | 28 | 0.5 | 1495 | 0.687 | 1.174 |\n",
       "| 296 | OAS2_0144 | OAS2_0144_MR1 | Converted | 1 |    0 | M | R | 77 | 16 | 1 | 30 | 0.0 | 1704 | 0.716 | 1.030 |\n",
       "| 297 | OAS2_0144 | OAS2_0144_MR2 | Converted | 2 |  683 | M | R | 79 | 16 | 1 | 30 | 0.5 | 1722 | 0.708 | 1.019 |\n",
       "| 298 | OAS2_0145 | OAS2_0145_MR1 | Converted | 1 |    0 | F | R | 68 | 16 | 3 | 30 | 0.0 | 1298 | 0.799 | 1.352 |\n",
       "| 299 | OAS2_0145 | OAS2_0145_MR2 | Converted | 2 | 1707 | F | R | 73 | 16 | 3 | 29 | 0.5 | 1287 | 0.771 | 1.364 |\n",
       "| 347 | OAS2_0176 | OAS2_0176_MR1 | Converted | 1 |    0 | M | R | 84 | 16 | 2 | 30 | 0.0 | 1404 | 0.710 | 1.250 |\n",
       "| 348 | OAS2_0176 | OAS2_0176_MR2 | Converted | 2 |  774 | M | R | 87 | 16 | 2 | 30 | 0.0 | 1398 | 0.696 | 1.255 |\n",
       "| 349 | OAS2_0176 | OAS2_0176_MR3 | Converted | 3 | 1631 | M | R | 89 | 16 | 2 | 30 | 0.5 | 1408 | 0.679 | 1.246 |\n",
       "\n"
      ],
      "text/plain": [
       "    Subject.ID MRI.ID        Group     Visit MR.Delay M.F Hand Age EDUC SES\n",
       "34  OAS2_0018  OAS2_0018_MR1 Converted 1        0     F   R    87  14   1  \n",
       "35  OAS2_0018  OAS2_0018_MR3 Converted 3      489     F   R    88  14   1  \n",
       "36  OAS2_0018  OAS2_0018_MR4 Converted 4     1933     F   R    92  14   1  \n",
       "37  OAS2_0020  OAS2_0020_MR1 Converted 1        0     M   R    80  20   1  \n",
       "38  OAS2_0020  OAS2_0020_MR2 Converted 2      756     M   R    82  20   1  \n",
       "39  OAS2_0020  OAS2_0020_MR3 Converted 3     1563     M   R    84  20   1  \n",
       "58  OAS2_0031  OAS2_0031_MR1 Converted 1        0     F   R    86  12   3  \n",
       "59  OAS2_0031  OAS2_0031_MR2 Converted 2      446     F   R    88  12   3  \n",
       "60  OAS2_0031  OAS2_0031_MR3 Converted 3     1588     F   R    91  12   3  \n",
       "82  OAS2_0041  OAS2_0041_MR1 Converted 1        0     F   R    71  16   1  \n",
       "83  OAS2_0041  OAS2_0041_MR2 Converted 2      756     F   R    73  16   1  \n",
       "84  OAS2_0041  OAS2_0041_MR3 Converted 3     1331     F   R    75  16   1  \n",
       "115 OAS2_0054  OAS2_0054_MR1 Converted 1        0     F   R    85  18   1  \n",
       "116 OAS2_0054  OAS2_0054_MR2 Converted 2      846     F   R    87  18   1  \n",
       "195 OAS2_0092  OAS2_0092_MR1 Converted 1        0     F   R    83  12   2  \n",
       "196 OAS2_0092  OAS2_0092_MR2 Converted 2      706     F   R    84  12   2  \n",
       "219 OAS2_0103  OAS2_0103_MR1 Converted 1        0     F   R    69  16   1  \n",
       "220 OAS2_0103  OAS2_0103_MR2 Converted 2     1554     F   R    74  16   1  \n",
       "221 OAS2_0103  OAS2_0103_MR3 Converted 3     2002     F   R    75  16   1  \n",
       "246 OAS2_0118  OAS2_0118_MR1 Converted 1        0     F   R    67  14   4  \n",
       "247 OAS2_0118  OAS2_0118_MR2 Converted 2     1422     F   R    71  14   4  \n",
       "262 OAS2_0127  OAS2_0127_MR1 Converted 1        0     M   R    79  18   1  \n",
       "263 OAS2_0127  OAS2_0127_MR2 Converted 2      851     M   R    81  18   1  \n",
       "264 OAS2_0127  OAS2_0127_MR3 Converted 3     1042     M   R    81  18   1  \n",
       "265 OAS2_0127  OAS2_0127_MR4 Converted 4     2153     M   R    84  18   1  \n",
       "266 OAS2_0127  OAS2_0127_MR5 Converted 5     2639     M   R    86  18   1  \n",
       "272 OAS2_0131  OAS2_0131_MR1 Converted 1        0     F   R    65  12   2  \n",
       "273 OAS2_0131  OAS2_0131_MR2 Converted 2      679     F   R    67  12   2  \n",
       "274 OAS2_0133  OAS2_0133_MR1 Converted 1        0     F   R    78  12   3  \n",
       "275 OAS2_0133  OAS2_0133_MR3 Converted 3     1006     F   R    81  12   3  \n",
       "296 OAS2_0144  OAS2_0144_MR1 Converted 1        0     M   R    77  16   1  \n",
       "297 OAS2_0144  OAS2_0144_MR2 Converted 2      683     M   R    79  16   1  \n",
       "298 OAS2_0145  OAS2_0145_MR1 Converted 1        0     F   R    68  16   3  \n",
       "299 OAS2_0145  OAS2_0145_MR2 Converted 2     1707     F   R    73  16   3  \n",
       "347 OAS2_0176  OAS2_0176_MR1 Converted 1        0     M   R    84  16   2  \n",
       "348 OAS2_0176  OAS2_0176_MR2 Converted 2      774     M   R    87  16   2  \n",
       "349 OAS2_0176  OAS2_0176_MR3 Converted 3     1631     M   R    89  16   2  \n",
       "    MMSE CDR eTIV nWBV  ASF  \n",
       "34  30   0.0 1406 0.715 1.248\n",
       "35  29   0.0 1398 0.713 1.255\n",
       "36  27   0.5 1423 0.696 1.234\n",
       "37  29   0.0 1587 0.693 1.106\n",
       "38  28   0.5 1606 0.677 1.093\n",
       "39  26   0.5 1597 0.666 1.099\n",
       "58  30   0.0 1430 0.718 1.227\n",
       "59  30   0.0 1445 0.719 1.215\n",
       "60  28   0.5 1463 0.696 1.199\n",
       "82  27   0.0 1289 0.771 1.362\n",
       "83  28   0.0 1295 0.768 1.356\n",
       "84  28   0.5 1314 0.760 1.335\n",
       "115 29   0.0 1264 0.701 1.388\n",
       "116 24   0.5 1275 0.683 1.376\n",
       "195 28   0.0 1383 0.748 1.269\n",
       "196 27   0.5 1390 0.728 1.263\n",
       "219 30   0.0 1404 0.750 1.250\n",
       "220 30   0.5 1423 0.722 1.233\n",
       "221 30   0.5 1419 0.731 1.236\n",
       "246 30   0.0 1508 0.794 1.164\n",
       "247 26   0.5 1529 0.788 1.147\n",
       "262 29   0.0 1644 0.729 1.067\n",
       "263 29   0.5 1654 0.720 1.061\n",
       "264 29   0.5 1647 0.717 1.066\n",
       "265 29   0.5 1668 0.694 1.052\n",
       "266 30   0.5 1670 0.669 1.051\n",
       "272 30   0.5 1340 0.754 1.309\n",
       "273 25   0.0 1331 0.761 1.318\n",
       "274 29   0.0 1475 0.731 1.190\n",
       "275 28   0.5 1495 0.687 1.174\n",
       "296 30   0.0 1704 0.716 1.030\n",
       "297 30   0.5 1722 0.708 1.019\n",
       "298 30   0.0 1298 0.799 1.352\n",
       "299 29   0.5 1287 0.771 1.364\n",
       "347 30   0.0 1404 0.710 1.250\n",
       "348 30   0.0 1398 0.696 1.255\n",
       "349 30   0.5 1408 0.679 1.246"
      ]
     },
     "metadata": {},
     "output_type": "display_data"
    }
   ],
   "source": [
    "subset(dementia, Group == 'Converted')"
   ]
  },
  {
   "cell_type": "code",
   "execution_count": 19,
   "metadata": {
    "vscode": {
     "languageId": "r"
    }
   },
   "outputs": [
    {
     "data": {
      "text/html": [
       "150"
      ],
      "text/latex": [
       "150"
      ],
      "text/markdown": [
       "150"
      ],
      "text/plain": [
       "[1] 150"
      ]
     },
     "metadata": {},
     "output_type": "display_data"
    }
   ],
   "source": [
    "length(unique(dementia$Subject.ID))"
   ]
  },
  {
   "cell_type": "code",
   "execution_count": 20,
   "metadata": {
    "vscode": {
     "languageId": "r"
    }
   },
   "outputs": [
    {
     "data": {
      "text/html": [
       "<style>\n",
       ".list-inline {list-style: none; margin:0; padding: 0}\n",
       ".list-inline>li {display: inline-block}\n",
       ".list-inline>li:not(:last-child)::after {content: \"\\00b7\"; padding: 0 .5ex}\n",
       "</style>\n",
       "<ol class=list-inline><li>'OAS2_0001'</li><li>'OAS2_0002'</li><li>'OAS2_0004'</li><li>'OAS2_0005'</li><li>'OAS2_0007'</li><li>'OAS2_0008'</li><li>'OAS2_0009'</li><li>'OAS2_0010'</li><li>'OAS2_0012'</li><li>'OAS2_0013'</li><li>'OAS2_0014'</li><li>'OAS2_0016'</li><li>'OAS2_0017'</li><li>'OAS2_0018'</li><li>'OAS2_0020'</li><li>'OAS2_0021'</li><li>'OAS2_0022'</li><li>'OAS2_0023'</li><li>'OAS2_0026'</li><li>'OAS2_0027'</li><li>'OAS2_0028'</li><li>'OAS2_0029'</li><li>'OAS2_0030'</li><li>'OAS2_0031'</li><li>'OAS2_0032'</li><li>'OAS2_0034'</li><li>'OAS2_0035'</li><li>'OAS2_0036'</li><li>'OAS2_0037'</li><li>'OAS2_0039'</li><li>'OAS2_0040'</li><li>'OAS2_0041'</li><li>'OAS2_0042'</li><li>'OAS2_0043'</li><li>'OAS2_0044'</li><li>'OAS2_0045'</li><li>'OAS2_0046'</li><li>'OAS2_0047'</li><li>'OAS2_0048'</li><li>'OAS2_0049'</li><li>'OAS2_0050'</li><li>'OAS2_0051'</li><li>'OAS2_0052'</li><li>'OAS2_0053'</li><li>'OAS2_0054'</li><li>'OAS2_0055'</li><li>'OAS2_0056'</li><li>'OAS2_0057'</li><li>'OAS2_0058'</li><li>'OAS2_0060'</li><li>'OAS2_0061'</li><li>'OAS2_0062'</li><li>'OAS2_0063'</li><li>'OAS2_0064'</li><li>'OAS2_0066'</li><li>'OAS2_0067'</li><li>'OAS2_0068'</li><li>'OAS2_0069'</li><li>'OAS2_0070'</li><li>'OAS2_0071'</li><li>'OAS2_0073'</li><li>'OAS2_0075'</li><li>'OAS2_0076'</li><li>'OAS2_0077'</li><li>'OAS2_0078'</li><li>'OAS2_0079'</li><li>'OAS2_0080'</li><li>'OAS2_0081'</li><li>'OAS2_0085'</li><li>'OAS2_0086'</li><li>'OAS2_0087'</li><li>'OAS2_0088'</li><li>'OAS2_0089'</li><li>'OAS2_0090'</li><li>'OAS2_0091'</li><li>'OAS2_0092'</li><li>'OAS2_0094'</li><li>'OAS2_0095'</li><li>'OAS2_0096'</li><li>'OAS2_0097'</li><li>'OAS2_0098'</li><li>'OAS2_0099'</li><li>'OAS2_0100'</li><li>'OAS2_0101'</li><li>'OAS2_0102'</li><li>'OAS2_0103'</li><li>'OAS2_0104'</li><li>'OAS2_0105'</li><li>'OAS2_0106'</li><li>'OAS2_0108'</li><li>'OAS2_0109'</li><li>'OAS2_0111'</li><li>'OAS2_0112'</li><li>'OAS2_0113'</li><li>'OAS2_0114'</li><li>'OAS2_0116'</li><li>'OAS2_0117'</li><li>'OAS2_0118'</li><li>'OAS2_0119'</li><li>'OAS2_0120'</li><li>'OAS2_0121'</li><li>'OAS2_0122'</li><li>'OAS2_0124'</li><li>'OAS2_0126'</li><li>'OAS2_0127'</li><li>'OAS2_0128'</li><li>'OAS2_0129'</li><li>'OAS2_0131'</li><li>'OAS2_0133'</li><li>'OAS2_0134'</li><li>'OAS2_0135'</li><li>'OAS2_0137'</li><li>'OAS2_0138'</li><li>'OAS2_0139'</li><li>'OAS2_0140'</li><li>'OAS2_0141'</li><li>'OAS2_0142'</li><li>'OAS2_0143'</li><li>'OAS2_0144'</li><li>'OAS2_0145'</li><li>'OAS2_0146'</li><li>'OAS2_0147'</li><li>'OAS2_0149'</li><li>'OAS2_0150'</li><li>'OAS2_0152'</li><li>'OAS2_0154'</li><li>'OAS2_0156'</li><li>'OAS2_0157'</li><li>'OAS2_0158'</li><li>'OAS2_0159'</li><li>'OAS2_0160'</li><li>'OAS2_0161'</li><li>'OAS2_0162'</li><li>'OAS2_0164'</li><li>'OAS2_0165'</li><li>'OAS2_0169'</li><li>'OAS2_0171'</li><li>'OAS2_0172'</li><li>'OAS2_0174'</li><li>'OAS2_0175'</li><li>'OAS2_0176'</li><li>'OAS2_0177'</li><li>'OAS2_0178'</li><li>'OAS2_0179'</li><li>'OAS2_0181'</li><li>'OAS2_0182'</li><li>'OAS2_0183'</li><li>'OAS2_0184'</li><li>'OAS2_0185'</li><li>'OAS2_0186'</li></ol>\n"
      ],
      "text/latex": [
       "\\begin{enumerate*}\n",
       "\\item 'OAS2\\_0001'\n",
       "\\item 'OAS2\\_0002'\n",
       "\\item 'OAS2\\_0004'\n",
       "\\item 'OAS2\\_0005'\n",
       "\\item 'OAS2\\_0007'\n",
       "\\item 'OAS2\\_0008'\n",
       "\\item 'OAS2\\_0009'\n",
       "\\item 'OAS2\\_0010'\n",
       "\\item 'OAS2\\_0012'\n",
       "\\item 'OAS2\\_0013'\n",
       "\\item 'OAS2\\_0014'\n",
       "\\item 'OAS2\\_0016'\n",
       "\\item 'OAS2\\_0017'\n",
       "\\item 'OAS2\\_0018'\n",
       "\\item 'OAS2\\_0020'\n",
       "\\item 'OAS2\\_0021'\n",
       "\\item 'OAS2\\_0022'\n",
       "\\item 'OAS2\\_0023'\n",
       "\\item 'OAS2\\_0026'\n",
       "\\item 'OAS2\\_0027'\n",
       "\\item 'OAS2\\_0028'\n",
       "\\item 'OAS2\\_0029'\n",
       "\\item 'OAS2\\_0030'\n",
       "\\item 'OAS2\\_0031'\n",
       "\\item 'OAS2\\_0032'\n",
       "\\item 'OAS2\\_0034'\n",
       "\\item 'OAS2\\_0035'\n",
       "\\item 'OAS2\\_0036'\n",
       "\\item 'OAS2\\_0037'\n",
       "\\item 'OAS2\\_0039'\n",
       "\\item 'OAS2\\_0040'\n",
       "\\item 'OAS2\\_0041'\n",
       "\\item 'OAS2\\_0042'\n",
       "\\item 'OAS2\\_0043'\n",
       "\\item 'OAS2\\_0044'\n",
       "\\item 'OAS2\\_0045'\n",
       "\\item 'OAS2\\_0046'\n",
       "\\item 'OAS2\\_0047'\n",
       "\\item 'OAS2\\_0048'\n",
       "\\item 'OAS2\\_0049'\n",
       "\\item 'OAS2\\_0050'\n",
       "\\item 'OAS2\\_0051'\n",
       "\\item 'OAS2\\_0052'\n",
       "\\item 'OAS2\\_0053'\n",
       "\\item 'OAS2\\_0054'\n",
       "\\item 'OAS2\\_0055'\n",
       "\\item 'OAS2\\_0056'\n",
       "\\item 'OAS2\\_0057'\n",
       "\\item 'OAS2\\_0058'\n",
       "\\item 'OAS2\\_0060'\n",
       "\\item 'OAS2\\_0061'\n",
       "\\item 'OAS2\\_0062'\n",
       "\\item 'OAS2\\_0063'\n",
       "\\item 'OAS2\\_0064'\n",
       "\\item 'OAS2\\_0066'\n",
       "\\item 'OAS2\\_0067'\n",
       "\\item 'OAS2\\_0068'\n",
       "\\item 'OAS2\\_0069'\n",
       "\\item 'OAS2\\_0070'\n",
       "\\item 'OAS2\\_0071'\n",
       "\\item 'OAS2\\_0073'\n",
       "\\item 'OAS2\\_0075'\n",
       "\\item 'OAS2\\_0076'\n",
       "\\item 'OAS2\\_0077'\n",
       "\\item 'OAS2\\_0078'\n",
       "\\item 'OAS2\\_0079'\n",
       "\\item 'OAS2\\_0080'\n",
       "\\item 'OAS2\\_0081'\n",
       "\\item 'OAS2\\_0085'\n",
       "\\item 'OAS2\\_0086'\n",
       "\\item 'OAS2\\_0087'\n",
       "\\item 'OAS2\\_0088'\n",
       "\\item 'OAS2\\_0089'\n",
       "\\item 'OAS2\\_0090'\n",
       "\\item 'OAS2\\_0091'\n",
       "\\item 'OAS2\\_0092'\n",
       "\\item 'OAS2\\_0094'\n",
       "\\item 'OAS2\\_0095'\n",
       "\\item 'OAS2\\_0096'\n",
       "\\item 'OAS2\\_0097'\n",
       "\\item 'OAS2\\_0098'\n",
       "\\item 'OAS2\\_0099'\n",
       "\\item 'OAS2\\_0100'\n",
       "\\item 'OAS2\\_0101'\n",
       "\\item 'OAS2\\_0102'\n",
       "\\item 'OAS2\\_0103'\n",
       "\\item 'OAS2\\_0104'\n",
       "\\item 'OAS2\\_0105'\n",
       "\\item 'OAS2\\_0106'\n",
       "\\item 'OAS2\\_0108'\n",
       "\\item 'OAS2\\_0109'\n",
       "\\item 'OAS2\\_0111'\n",
       "\\item 'OAS2\\_0112'\n",
       "\\item 'OAS2\\_0113'\n",
       "\\item 'OAS2\\_0114'\n",
       "\\item 'OAS2\\_0116'\n",
       "\\item 'OAS2\\_0117'\n",
       "\\item 'OAS2\\_0118'\n",
       "\\item 'OAS2\\_0119'\n",
       "\\item 'OAS2\\_0120'\n",
       "\\item 'OAS2\\_0121'\n",
       "\\item 'OAS2\\_0122'\n",
       "\\item 'OAS2\\_0124'\n",
       "\\item 'OAS2\\_0126'\n",
       "\\item 'OAS2\\_0127'\n",
       "\\item 'OAS2\\_0128'\n",
       "\\item 'OAS2\\_0129'\n",
       "\\item 'OAS2\\_0131'\n",
       "\\item 'OAS2\\_0133'\n",
       "\\item 'OAS2\\_0134'\n",
       "\\item 'OAS2\\_0135'\n",
       "\\item 'OAS2\\_0137'\n",
       "\\item 'OAS2\\_0138'\n",
       "\\item 'OAS2\\_0139'\n",
       "\\item 'OAS2\\_0140'\n",
       "\\item 'OAS2\\_0141'\n",
       "\\item 'OAS2\\_0142'\n",
       "\\item 'OAS2\\_0143'\n",
       "\\item 'OAS2\\_0144'\n",
       "\\item 'OAS2\\_0145'\n",
       "\\item 'OAS2\\_0146'\n",
       "\\item 'OAS2\\_0147'\n",
       "\\item 'OAS2\\_0149'\n",
       "\\item 'OAS2\\_0150'\n",
       "\\item 'OAS2\\_0152'\n",
       "\\item 'OAS2\\_0154'\n",
       "\\item 'OAS2\\_0156'\n",
       "\\item 'OAS2\\_0157'\n",
       "\\item 'OAS2\\_0158'\n",
       "\\item 'OAS2\\_0159'\n",
       "\\item 'OAS2\\_0160'\n",
       "\\item 'OAS2\\_0161'\n",
       "\\item 'OAS2\\_0162'\n",
       "\\item 'OAS2\\_0164'\n",
       "\\item 'OAS2\\_0165'\n",
       "\\item 'OAS2\\_0169'\n",
       "\\item 'OAS2\\_0171'\n",
       "\\item 'OAS2\\_0172'\n",
       "\\item 'OAS2\\_0174'\n",
       "\\item 'OAS2\\_0175'\n",
       "\\item 'OAS2\\_0176'\n",
       "\\item 'OAS2\\_0177'\n",
       "\\item 'OAS2\\_0178'\n",
       "\\item 'OAS2\\_0179'\n",
       "\\item 'OAS2\\_0181'\n",
       "\\item 'OAS2\\_0182'\n",
       "\\item 'OAS2\\_0183'\n",
       "\\item 'OAS2\\_0184'\n",
       "\\item 'OAS2\\_0185'\n",
       "\\item 'OAS2\\_0186'\n",
       "\\end{enumerate*}\n"
      ],
      "text/markdown": [
       "1. 'OAS2_0001'\n",
       "2. 'OAS2_0002'\n",
       "3. 'OAS2_0004'\n",
       "4. 'OAS2_0005'\n",
       "5. 'OAS2_0007'\n",
       "6. 'OAS2_0008'\n",
       "7. 'OAS2_0009'\n",
       "8. 'OAS2_0010'\n",
       "9. 'OAS2_0012'\n",
       "10. 'OAS2_0013'\n",
       "11. 'OAS2_0014'\n",
       "12. 'OAS2_0016'\n",
       "13. 'OAS2_0017'\n",
       "14. 'OAS2_0018'\n",
       "15. 'OAS2_0020'\n",
       "16. 'OAS2_0021'\n",
       "17. 'OAS2_0022'\n",
       "18. 'OAS2_0023'\n",
       "19. 'OAS2_0026'\n",
       "20. 'OAS2_0027'\n",
       "21. 'OAS2_0028'\n",
       "22. 'OAS2_0029'\n",
       "23. 'OAS2_0030'\n",
       "24. 'OAS2_0031'\n",
       "25. 'OAS2_0032'\n",
       "26. 'OAS2_0034'\n",
       "27. 'OAS2_0035'\n",
       "28. 'OAS2_0036'\n",
       "29. 'OAS2_0037'\n",
       "30. 'OAS2_0039'\n",
       "31. 'OAS2_0040'\n",
       "32. 'OAS2_0041'\n",
       "33. 'OAS2_0042'\n",
       "34. 'OAS2_0043'\n",
       "35. 'OAS2_0044'\n",
       "36. 'OAS2_0045'\n",
       "37. 'OAS2_0046'\n",
       "38. 'OAS2_0047'\n",
       "39. 'OAS2_0048'\n",
       "40. 'OAS2_0049'\n",
       "41. 'OAS2_0050'\n",
       "42. 'OAS2_0051'\n",
       "43. 'OAS2_0052'\n",
       "44. 'OAS2_0053'\n",
       "45. 'OAS2_0054'\n",
       "46. 'OAS2_0055'\n",
       "47. 'OAS2_0056'\n",
       "48. 'OAS2_0057'\n",
       "49. 'OAS2_0058'\n",
       "50. 'OAS2_0060'\n",
       "51. 'OAS2_0061'\n",
       "52. 'OAS2_0062'\n",
       "53. 'OAS2_0063'\n",
       "54. 'OAS2_0064'\n",
       "55. 'OAS2_0066'\n",
       "56. 'OAS2_0067'\n",
       "57. 'OAS2_0068'\n",
       "58. 'OAS2_0069'\n",
       "59. 'OAS2_0070'\n",
       "60. 'OAS2_0071'\n",
       "61. 'OAS2_0073'\n",
       "62. 'OAS2_0075'\n",
       "63. 'OAS2_0076'\n",
       "64. 'OAS2_0077'\n",
       "65. 'OAS2_0078'\n",
       "66. 'OAS2_0079'\n",
       "67. 'OAS2_0080'\n",
       "68. 'OAS2_0081'\n",
       "69. 'OAS2_0085'\n",
       "70. 'OAS2_0086'\n",
       "71. 'OAS2_0087'\n",
       "72. 'OAS2_0088'\n",
       "73. 'OAS2_0089'\n",
       "74. 'OAS2_0090'\n",
       "75. 'OAS2_0091'\n",
       "76. 'OAS2_0092'\n",
       "77. 'OAS2_0094'\n",
       "78. 'OAS2_0095'\n",
       "79. 'OAS2_0096'\n",
       "80. 'OAS2_0097'\n",
       "81. 'OAS2_0098'\n",
       "82. 'OAS2_0099'\n",
       "83. 'OAS2_0100'\n",
       "84. 'OAS2_0101'\n",
       "85. 'OAS2_0102'\n",
       "86. 'OAS2_0103'\n",
       "87. 'OAS2_0104'\n",
       "88. 'OAS2_0105'\n",
       "89. 'OAS2_0106'\n",
       "90. 'OAS2_0108'\n",
       "91. 'OAS2_0109'\n",
       "92. 'OAS2_0111'\n",
       "93. 'OAS2_0112'\n",
       "94. 'OAS2_0113'\n",
       "95. 'OAS2_0114'\n",
       "96. 'OAS2_0116'\n",
       "97. 'OAS2_0117'\n",
       "98. 'OAS2_0118'\n",
       "99. 'OAS2_0119'\n",
       "100. 'OAS2_0120'\n",
       "101. 'OAS2_0121'\n",
       "102. 'OAS2_0122'\n",
       "103. 'OAS2_0124'\n",
       "104. 'OAS2_0126'\n",
       "105. 'OAS2_0127'\n",
       "106. 'OAS2_0128'\n",
       "107. 'OAS2_0129'\n",
       "108. 'OAS2_0131'\n",
       "109. 'OAS2_0133'\n",
       "110. 'OAS2_0134'\n",
       "111. 'OAS2_0135'\n",
       "112. 'OAS2_0137'\n",
       "113. 'OAS2_0138'\n",
       "114. 'OAS2_0139'\n",
       "115. 'OAS2_0140'\n",
       "116. 'OAS2_0141'\n",
       "117. 'OAS2_0142'\n",
       "118. 'OAS2_0143'\n",
       "119. 'OAS2_0144'\n",
       "120. 'OAS2_0145'\n",
       "121. 'OAS2_0146'\n",
       "122. 'OAS2_0147'\n",
       "123. 'OAS2_0149'\n",
       "124. 'OAS2_0150'\n",
       "125. 'OAS2_0152'\n",
       "126. 'OAS2_0154'\n",
       "127. 'OAS2_0156'\n",
       "128. 'OAS2_0157'\n",
       "129. 'OAS2_0158'\n",
       "130. 'OAS2_0159'\n",
       "131. 'OAS2_0160'\n",
       "132. 'OAS2_0161'\n",
       "133. 'OAS2_0162'\n",
       "134. 'OAS2_0164'\n",
       "135. 'OAS2_0165'\n",
       "136. 'OAS2_0169'\n",
       "137. 'OAS2_0171'\n",
       "138. 'OAS2_0172'\n",
       "139. 'OAS2_0174'\n",
       "140. 'OAS2_0175'\n",
       "141. 'OAS2_0176'\n",
       "142. 'OAS2_0177'\n",
       "143. 'OAS2_0178'\n",
       "144. 'OAS2_0179'\n",
       "145. 'OAS2_0181'\n",
       "146. 'OAS2_0182'\n",
       "147. 'OAS2_0183'\n",
       "148. 'OAS2_0184'\n",
       "149. 'OAS2_0185'\n",
       "150. 'OAS2_0186'\n",
       "\n",
       "\n"
      ],
      "text/plain": [
       "  [1] \"OAS2_0001\" \"OAS2_0002\" \"OAS2_0004\" \"OAS2_0005\" \"OAS2_0007\" \"OAS2_0008\"\n",
       "  [7] \"OAS2_0009\" \"OAS2_0010\" \"OAS2_0012\" \"OAS2_0013\" \"OAS2_0014\" \"OAS2_0016\"\n",
       " [13] \"OAS2_0017\" \"OAS2_0018\" \"OAS2_0020\" \"OAS2_0021\" \"OAS2_0022\" \"OAS2_0023\"\n",
       " [19] \"OAS2_0026\" \"OAS2_0027\" \"OAS2_0028\" \"OAS2_0029\" \"OAS2_0030\" \"OAS2_0031\"\n",
       " [25] \"OAS2_0032\" \"OAS2_0034\" \"OAS2_0035\" \"OAS2_0036\" \"OAS2_0037\" \"OAS2_0039\"\n",
       " [31] \"OAS2_0040\" \"OAS2_0041\" \"OAS2_0042\" \"OAS2_0043\" \"OAS2_0044\" \"OAS2_0045\"\n",
       " [37] \"OAS2_0046\" \"OAS2_0047\" \"OAS2_0048\" \"OAS2_0049\" \"OAS2_0050\" \"OAS2_0051\"\n",
       " [43] \"OAS2_0052\" \"OAS2_0053\" \"OAS2_0054\" \"OAS2_0055\" \"OAS2_0056\" \"OAS2_0057\"\n",
       " [49] \"OAS2_0058\" \"OAS2_0060\" \"OAS2_0061\" \"OAS2_0062\" \"OAS2_0063\" \"OAS2_0064\"\n",
       " [55] \"OAS2_0066\" \"OAS2_0067\" \"OAS2_0068\" \"OAS2_0069\" \"OAS2_0070\" \"OAS2_0071\"\n",
       " [61] \"OAS2_0073\" \"OAS2_0075\" \"OAS2_0076\" \"OAS2_0077\" \"OAS2_0078\" \"OAS2_0079\"\n",
       " [67] \"OAS2_0080\" \"OAS2_0081\" \"OAS2_0085\" \"OAS2_0086\" \"OAS2_0087\" \"OAS2_0088\"\n",
       " [73] \"OAS2_0089\" \"OAS2_0090\" \"OAS2_0091\" \"OAS2_0092\" \"OAS2_0094\" \"OAS2_0095\"\n",
       " [79] \"OAS2_0096\" \"OAS2_0097\" \"OAS2_0098\" \"OAS2_0099\" \"OAS2_0100\" \"OAS2_0101\"\n",
       " [85] \"OAS2_0102\" \"OAS2_0103\" \"OAS2_0104\" \"OAS2_0105\" \"OAS2_0106\" \"OAS2_0108\"\n",
       " [91] \"OAS2_0109\" \"OAS2_0111\" \"OAS2_0112\" \"OAS2_0113\" \"OAS2_0114\" \"OAS2_0116\"\n",
       " [97] \"OAS2_0117\" \"OAS2_0118\" \"OAS2_0119\" \"OAS2_0120\" \"OAS2_0121\" \"OAS2_0122\"\n",
       "[103] \"OAS2_0124\" \"OAS2_0126\" \"OAS2_0127\" \"OAS2_0128\" \"OAS2_0129\" \"OAS2_0131\"\n",
       "[109] \"OAS2_0133\" \"OAS2_0134\" \"OAS2_0135\" \"OAS2_0137\" \"OAS2_0138\" \"OAS2_0139\"\n",
       "[115] \"OAS2_0140\" \"OAS2_0141\" \"OAS2_0142\" \"OAS2_0143\" \"OAS2_0144\" \"OAS2_0145\"\n",
       "[121] \"OAS2_0146\" \"OAS2_0147\" \"OAS2_0149\" \"OAS2_0150\" \"OAS2_0152\" \"OAS2_0154\"\n",
       "[127] \"OAS2_0156\" \"OAS2_0157\" \"OAS2_0158\" \"OAS2_0159\" \"OAS2_0160\" \"OAS2_0161\"\n",
       "[133] \"OAS2_0162\" \"OAS2_0164\" \"OAS2_0165\" \"OAS2_0169\" \"OAS2_0171\" \"OAS2_0172\"\n",
       "[139] \"OAS2_0174\" \"OAS2_0175\" \"OAS2_0176\" \"OAS2_0177\" \"OAS2_0178\" \"OAS2_0179\"\n",
       "[145] \"OAS2_0181\" \"OAS2_0182\" \"OAS2_0183\" \"OAS2_0184\" \"OAS2_0185\" \"OAS2_0186\""
      ]
     },
     "metadata": {},
     "output_type": "display_data"
    }
   ],
   "source": [
    "unique(dementia$Subject.ID)"
   ]
  },
  {
   "cell_type": "code",
   "execution_count": null,
   "metadata": {
    "vscode": {
     "languageId": "r"
    }
   },
   "outputs": [],
   "source": []
  }
 ],
 "metadata": {
  "kernelspec": {
   "display_name": "R",
   "language": "R",
   "name": "ir"
  },
  "language_info": {
   "codemirror_mode": "r",
   "file_extension": ".r",
   "mimetype": "text/x-r-source",
   "name": "R",
   "pygments_lexer": "r",
   "version": "4.3.2"
  }
 },
 "nbformat": 4,
 "nbformat_minor": 2
}
